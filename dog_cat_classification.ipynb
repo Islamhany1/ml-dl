{
 "cells": [
  {
   "cell_type": "markdown",
   "metadata": {
    "id": "DhgZPb1-KxQD"
   },
   "source": [
    "import libraries"
   ]
  },
  {
   "cell_type": "code",
   "execution_count": 2,
   "metadata": {
    "id": "eeMI07h3KwKU"
   },
   "outputs": [],
   "source": [
    "import tensorflow as tf\n",
    "from keras.preprocessing.image import ImageDataGenerator"
   ]
  },
  {
   "cell_type": "markdown",
   "metadata": {
    "id": "GrGG1U8gU9aD"
   },
   "source": [
    "preprocessing the training set"
   ]
  },
  {
   "cell_type": "code",
   "execution_count": 3,
   "metadata": {
    "id": "eHBIkjgPVFHL"
   },
   "outputs": [
    {
     "name": "stdout",
     "output_type": "stream",
     "text": [
      "Found 8000 images belonging to 2 classes.\n"
     ]
    }
   ],
   "source": [
    "train_datagen = ImageDataGenerator(\n",
    "    rescale = 1. / 255,\n",
    "    shear_range = 0.2,\n",
    "    zoom_range = 0.2,\n",
    "    horizontal_flip = True )\n",
    "training_set = train_datagen.flow_from_directory(\n",
    "        'dataset/training_set',\n",
    "        target_size=(64, 64),\n",
    "        batch_size=32,\n",
    "        class_mode='binary')\n"
   ]
  },
  {
   "cell_type": "markdown",
   "metadata": {
    "id": "IByZlkJ-e8Kd"
   },
   "source": [
    "preprocessing test set"
   ]
  },
  {
   "cell_type": "code",
   "execution_count": 4,
   "metadata": {
    "id": "Vo7KR4_qe-Ys"
   },
   "outputs": [
    {
     "name": "stdout",
     "output_type": "stream",
     "text": [
      "Found 2000 images belonging to 2 classes.\n"
     ]
    }
   ],
   "source": [
    "test_datagen = ImageDataGenerator(rescale=1./255)\n",
    "test_set = test_datagen.flow_from_directory(\n",
    "        'dataset/test_set',\n",
    "        target_size=(64, 64),\n",
    "        batch_size=32,\n",
    "        class_mode='binary')"
   ]
  },
  {
   "cell_type": "markdown",
   "metadata": {
    "id": "035g8nufjX_w"
   },
   "source": [
    "initialise cnn"
   ]
  },
  {
   "cell_type": "code",
   "execution_count": 5,
   "metadata": {
    "id": "XwPgjWn_jZEq"
   },
   "outputs": [],
   "source": [
    "cnn = tf.keras.models.Sequential()\n"
   ]
  },
  {
   "cell_type": "markdown",
   "metadata": {
    "id": "ap3-PQe5jdJ4"
   },
   "source": [
    "convolution"
   ]
  },
  {
   "cell_type": "code",
   "execution_count": 6,
   "metadata": {
    "id": "OCFTwqCZje6H"
   },
   "outputs": [],
   "source": [
    "cnn.add(tf.keras.layers.Conv2D(filters = 32, activation = 'relu', kernel_size = 3, input_shape = (64, 64, 3) ))"
   ]
  },
  {
   "cell_type": "markdown",
   "metadata": {
    "id": "lve5tYLMk_lV"
   },
   "source": [
    "pooling"
   ]
  },
  {
   "cell_type": "code",
   "execution_count": 7,
   "metadata": {
    "id": "Xv4VkByBlB25"
   },
   "outputs": [],
   "source": [
    "cnn.add(tf.keras.layers.MaxPool2D(pool_size = (2, 2), strides = 2))"
   ]
  },
  {
   "cell_type": "markdown",
   "metadata": {
    "id": "pej7gAMVmnJu"
   },
   "source": [
    "add second layer"
   ]
  },
  {
   "cell_type": "code",
   "execution_count": 8,
   "metadata": {
    "id": "b7qBqSb_momZ"
   },
   "outputs": [],
   "source": [
    "cnn.add(tf.keras.layers.Conv2D(filters = 32, activation = 'relu', kernel_size = 3))\n",
    "cnn.add(tf.keras.layers.MaxPool2D(pool_size = (2, 2), strides = 2))"
   ]
  },
  {
   "cell_type": "markdown",
   "metadata": {
    "id": "ooci3WapnIc-"
   },
   "source": [
    "flattening"
   ]
  },
  {
   "cell_type": "code",
   "execution_count": 9,
   "metadata": {
    "id": "8CGzP7dmnJbt"
   },
   "outputs": [],
   "source": [
    "cnn.add(tf.keras.layers.Flatten())"
   ]
  },
  {
   "cell_type": "markdown",
   "metadata": {
    "id": "r7GlHXRfnMos"
   },
   "source": [
    "full connection"
   ]
  },
  {
   "cell_type": "code",
   "execution_count": 10,
   "metadata": {
    "id": "7IPURn6inNyH"
   },
   "outputs": [],
   "source": [
    "cnn.add(tf.keras.layers.Dense(units = 128, activation = 'relu'))"
   ]
  },
  {
   "cell_type": "markdown",
   "metadata": {
    "id": "iSEa9hHcnqOp"
   },
   "source": [
    "add output layer"
   ]
  },
  {
   "cell_type": "code",
   "execution_count": 11,
   "metadata": {
    "id": "X42DUrOjnsjI"
   },
   "outputs": [],
   "source": [
    "cnn.add(tf.keras.layers.Dense(units = 1, activation = 'sigmoid'))"
   ]
  },
  {
   "cell_type": "markdown",
   "metadata": {
    "id": "TGu2T6PnrogN"
   },
   "source": [
    "compile cnn model"
   ]
  },
  {
   "cell_type": "code",
   "execution_count": 12,
   "metadata": {
    "id": "ZGmWH3Xwrpwq"
   },
   "outputs": [],
   "source": [
    "cnn.compile(optimizer = 'Adam', loss = 'binary_crossentropy', metrics = ['accuracy'])"
   ]
  },
  {
   "cell_type": "markdown",
   "metadata": {
    "id": "or1hqT3esVxF"
   },
   "source": [
    "train the cnn and evaluate it on test set"
   ]
  },
  {
   "cell_type": "code",
   "execution_count": 13,
   "metadata": {
    "id": "1OFXiCrssXM9"
   },
   "outputs": [
    {
     "name": "stdout",
     "output_type": "stream",
     "text": [
      "Epoch 1/30\n",
      "250/250 [==============================] - 18s 72ms/step - loss: 0.6857 - accuracy: 0.5519 - val_loss: 0.6661 - val_accuracy: 0.6290\n",
      "Epoch 2/30\n",
      "250/250 [==============================] - 18s 73ms/step - loss: 0.6436 - accuracy: 0.6357 - val_loss: 0.6029 - val_accuracy: 0.6745\n",
      "Epoch 3/30\n",
      "250/250 [==============================] - 18s 74ms/step - loss: 0.5882 - accuracy: 0.6879 - val_loss: 0.5673 - val_accuracy: 0.7160\n",
      "Epoch 4/30\n",
      "250/250 [==============================] - 18s 71ms/step - loss: 0.5528 - accuracy: 0.7109 - val_loss: 0.5896 - val_accuracy: 0.6960\n",
      "Epoch 5/30\n",
      "250/250 [==============================] - 17s 68ms/step - loss: 0.5246 - accuracy: 0.7368 - val_loss: 0.5279 - val_accuracy: 0.7465\n",
      "Epoch 6/30\n",
      "250/250 [==============================] - 17s 69ms/step - loss: 0.5012 - accuracy: 0.7517 - val_loss: 0.5161 - val_accuracy: 0.7645\n",
      "Epoch 7/30\n",
      "250/250 [==============================] - 18s 72ms/step - loss: 0.4787 - accuracy: 0.7654 - val_loss: 0.5539 - val_accuracy: 0.7495\n",
      "Epoch 8/30\n",
      "250/250 [==============================] - 18s 73ms/step - loss: 0.4656 - accuracy: 0.7770 - val_loss: 0.4773 - val_accuracy: 0.7810\n",
      "Epoch 9/30\n",
      "250/250 [==============================] - 18s 71ms/step - loss: 0.4362 - accuracy: 0.7936 - val_loss: 0.4853 - val_accuracy: 0.7785\n",
      "Epoch 10/30\n",
      "250/250 [==============================] - 18s 71ms/step - loss: 0.4271 - accuracy: 0.7980 - val_loss: 0.4809 - val_accuracy: 0.7850\n",
      "Epoch 11/30\n",
      "250/250 [==============================] - 18s 72ms/step - loss: 0.4083 - accuracy: 0.8104 - val_loss: 0.4924 - val_accuracy: 0.7735\n",
      "Epoch 12/30\n",
      "250/250 [==============================] - 18s 71ms/step - loss: 0.3961 - accuracy: 0.8194 - val_loss: 0.4650 - val_accuracy: 0.7940\n",
      "Epoch 13/30\n",
      "250/250 [==============================] - 18s 71ms/step - loss: 0.3804 - accuracy: 0.8246 - val_loss: 0.4764 - val_accuracy: 0.7915\n",
      "Epoch 14/30\n",
      "250/250 [==============================] - 17s 69ms/step - loss: 0.3666 - accuracy: 0.8331 - val_loss: 0.4611 - val_accuracy: 0.7945\n",
      "Epoch 15/30\n",
      "250/250 [==============================] - 17s 70ms/step - loss: 0.3425 - accuracy: 0.8493 - val_loss: 0.4788 - val_accuracy: 0.8030\n",
      "Epoch 16/30\n",
      "250/250 [==============================] - 18s 73ms/step - loss: 0.3224 - accuracy: 0.8624 - val_loss: 0.4752 - val_accuracy: 0.7980\n",
      "Epoch 17/30\n",
      "250/250 [==============================] - 17s 68ms/step - loss: 0.3211 - accuracy: 0.8595 - val_loss: 0.4853 - val_accuracy: 0.7945\n",
      "Epoch 18/30\n",
      "250/250 [==============================] - 17s 69ms/step - loss: 0.2934 - accuracy: 0.8736 - val_loss: 0.5019 - val_accuracy: 0.7890\n",
      "Epoch 19/30\n",
      "250/250 [==============================] - 18s 70ms/step - loss: 0.2881 - accuracy: 0.8773 - val_loss: 0.5033 - val_accuracy: 0.7845\n",
      "Epoch 20/30\n",
      "250/250 [==============================] - 17s 70ms/step - loss: 0.2580 - accuracy: 0.8891 - val_loss: 0.5200 - val_accuracy: 0.7940\n",
      "Epoch 21/30\n",
      "250/250 [==============================] - 18s 71ms/step - loss: 0.2517 - accuracy: 0.8956 - val_loss: 0.5911 - val_accuracy: 0.7730\n",
      "Epoch 22/30\n",
      "250/250 [==============================] - 18s 71ms/step - loss: 0.2314 - accuracy: 0.9055 - val_loss: 0.5904 - val_accuracy: 0.7760\n",
      "Epoch 23/30\n",
      "250/250 [==============================] - 19s 74ms/step - loss: 0.2062 - accuracy: 0.9183 - val_loss: 0.7005 - val_accuracy: 0.7610\n",
      "Epoch 24/30\n",
      "250/250 [==============================] - 18s 73ms/step - loss: 0.2135 - accuracy: 0.9154 - val_loss: 0.6472 - val_accuracy: 0.7675\n",
      "Epoch 25/30\n",
      "250/250 [==============================] - 18s 73ms/step - loss: 0.1944 - accuracy: 0.9241 - val_loss: 0.8218 - val_accuracy: 0.7500\n",
      "Epoch 26/30\n",
      "250/250 [==============================] - 18s 70ms/step - loss: 0.1858 - accuracy: 0.9262 - val_loss: 0.6672 - val_accuracy: 0.7760\n",
      "Epoch 27/30\n",
      "250/250 [==============================] - 17s 70ms/step - loss: 0.1835 - accuracy: 0.9265 - val_loss: 0.6310 - val_accuracy: 0.7790\n",
      "Epoch 28/30\n",
      "250/250 [==============================] - 19s 74ms/step - loss: 0.1638 - accuracy: 0.9333 - val_loss: 0.6242 - val_accuracy: 0.7865\n",
      "Epoch 29/30\n",
      "250/250 [==============================] - 19s 75ms/step - loss: 0.1524 - accuracy: 0.9402 - val_loss: 0.6915 - val_accuracy: 0.7790\n",
      "Epoch 30/30\n",
      "250/250 [==============================] - 19s 77ms/step - loss: 0.1505 - accuracy: 0.9415 - val_loss: 0.6877 - val_accuracy: 0.7875\n"
     ]
    },
    {
     "data": {
      "text/plain": [
       "<keras.src.callbacks.History at 0x164c73fd0>"
      ]
     },
     "execution_count": 13,
     "metadata": {},
     "output_type": "execute_result"
    }
   ],
   "source": [
    "cnn.fit(x = training_set, validation_data = test_set, epochs = 30)"
   ]
  },
  {
   "cell_type": "markdown",
   "metadata": {
    "id": "EulBqDaetEM3"
   },
   "source": [
    "make single prediction"
   ]
  },
  {
   "cell_type": "code",
   "execution_count": 19,
   "metadata": {
    "id": "dGRDbRebubLh"
   },
   "outputs": [
    {
     "name": "stdout",
     "output_type": "stream",
     "text": [
      "1/1 [==============================] - 0s 15ms/step\n",
      "1/1 [==============================] - 0s 7ms/step\n",
      "first image is cat and the model predicted dog\n",
      "second image is dog and the model predicted dog\n"
     ]
    }
   ],
   "source": [
    "import numpy as np\n",
    "from keras.preprocessing import image\n",
    "test_image1 = image.load_img('dataset/cat.4002.jpg', target_size = (64, 64))\n",
    "test_image2 = image.load_img('dataset/dog.4002.jpg', target_size = (64, 64))\n",
    "test_image1 = image.img_to_array(test_image1)\n",
    "test_image2 = image.img_to_array(test_image2)\n",
    "test_image1 = np.expand_dims(test_image1, axis = 0)\n",
    "test_image2 = np.expand_dims(test_image2, axis = 0)\n",
    "result1 = cnn.predict(test_image1)\n",
    "result2 = cnn.predict(test_image2)\n",
    "training_set.class_indices\n",
    "if (result1[0][0] == 0):\n",
    "    result1 = 'cat'\n",
    "else:\n",
    "    result1 = 'dog'\n",
    "\n",
    "if (result2[0][0] == 0):\n",
    "    result2 = 'cat'\n",
    "else:\n",
    "    result2 = 'dog'\n",
    "print('first image is cat and the model predicted', result1)\n",
    "print('second image is dog and the model predicted', result2)"
   ]
  },
  {
   "cell_type": "code",
   "execution_count": null,
   "metadata": {},
   "outputs": [],
   "source": []
  }
 ],
 "metadata": {
  "colab": {
   "provenance": []
  },
  "kernelspec": {
   "display_name": "Python 3 (ipykernel)",
   "language": "python",
   "name": "python3"
  },
  "language_info": {
   "codemirror_mode": {
    "name": "ipython",
    "version": 3
   },
   "file_extension": ".py",
   "mimetype": "text/x-python",
   "name": "python",
   "nbconvert_exporter": "python",
   "pygments_lexer": "ipython3",
   "version": "3.11.7"
  }
 },
 "nbformat": 4,
 "nbformat_minor": 4
}
