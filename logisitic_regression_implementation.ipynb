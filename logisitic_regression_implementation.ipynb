{
  "nbformat": 4,
  "nbformat_minor": 0,
  "metadata": {
    "colab": {
      "provenance": []
    },
    "kernelspec": {
      "name": "python3",
      "display_name": "Python 3"
    },
    "language_info": {
      "name": "python"
    }
  },
  "cells": [
    {
      "cell_type": "markdown",
      "source": [
        "#**Building Logistic Regression**"
      ],
      "metadata": {
        "id": "ixPeO5NjNy7p"
      }
    },
    {
      "cell_type": "markdown",
      "source": [
        "importing libraries"
      ],
      "metadata": {
        "id": "ktLl6R1fN52V"
      }
    },
    {
      "cell_type": "code",
      "source": [
        "import numpy as np\n",
        "import pandas as pd\n",
        "from sklearn.preprocessing import StandardScaler\n",
        "from sklearn.model_selection import train_test_split\n",
        "import matplotlib.pyplot as plt\n",
        "from sklearn.metrics import accuracy_score\n"
      ],
      "metadata": {
        "id": "BP3Z4cI9MKIz"
      },
      "execution_count": 14,
      "outputs": []
    },
    {
      "cell_type": "markdown",
      "source": [
        "creating logistic regression class"
      ],
      "metadata": {
        "id": "CMqzmGWdN7wN"
      }
    },
    {
      "cell_type": "code",
      "execution_count": 3,
      "metadata": {
        "id": "D_SxopWlHkKi"
      },
      "outputs": [],
      "source": [
        "\n",
        "class Logistic_Regression():\n",
        "\n",
        "  def __init__(self, learning_rate, no_of_iterations):\n",
        "\n",
        "    self.learning_rate = learning_rate\n",
        "    self.no_of_iterations = no_of_iterations\n",
        "\n",
        "  def fit(self, X, Y):\n",
        "\n",
        "    self.X = X\n",
        "    self.Y = Y\n",
        "\n",
        "    self.data_size = X.shape[0]\n",
        "    self.no_of_features = X.shape[1]\n",
        "\n",
        "    self.weights = np.zeros(self.no_of_features)\n",
        "    self.bias = 0\n",
        "\n",
        "    for i in range(self.no_of_iterations):\n",
        "      self.update_weights()\n",
        "\n",
        "  def update_weights(self):\n",
        "    z = self.X.dot(self.weights) + self.bias\n",
        "    Y_prediction = 1 / (1 + np.exp(-z))\n",
        "    partial_derivative_to_weights = 1 / self.data_size * self.X.T.dot( Y_prediction - self.Y )\n",
        "    partial_derivative_to_bias = 1 / self.data_size * np.sum((Y_prediction - self.Y))\n",
        "    self.weights = self.weights - self.learning_rate * partial_derivative_to_weights\n",
        "    self.bias = self.bias - self.learning_rate * partial_derivative_to_bias\n",
        "\n",
        "  def predict(self, X):\n",
        "    z = X.dot(self.weights) + self.bias\n",
        "    Y_prediction = 1 / (1 + np.exp(-z))\n",
        "    Y_pred = np.where(Y_prediction > 0.5, 1, 0)\n",
        "    return Y_pred\n",
        ""
      ]
    },
    {
      "cell_type": "markdown",
      "source": [
        "load the data"
      ],
      "metadata": {
        "id": "Ezs_EswlnGrf"
      }
    },
    {
      "cell_type": "code",
      "source": [
        "diabetes_df = pd.read_csv('diabetes.csv')\n",
        "X = diabetes_df.drop(columns = 'Outcome')\n",
        "Y = diabetes_df.Outcome\n"
      ],
      "metadata": {
        "colab": {
          "base_uri": "https://localhost:8080/"
        },
        "id": "f-UidX23nJkd",
        "outputId": "687874e5-c475-40ee-c9c7-3ee9780d8d78"
      },
      "execution_count": 12,
      "outputs": [
        {
          "output_type": "execute_result",
          "data": {
            "text/plain": [
              "Pregnancies                 0\n",
              "Glucose                     0\n",
              "BloodPressure               0\n",
              "SkinThickness               0\n",
              "Insulin                     0\n",
              "BMI                         0\n",
              "DiabetesPedigreeFunction    0\n",
              "Age                         0\n",
              "Outcome                     0\n",
              "dtype: int64"
            ]
          },
          "metadata": {},
          "execution_count": 12
        }
      ]
    },
    {
      "cell_type": "markdown",
      "source": [
        "split the data"
      ],
      "metadata": {
        "id": "Gp1TMQnFnzle"
      }
    },
    {
      "cell_type": "code",
      "source": [
        "X_train, X_test, Y_train, Y_test = train_test_split(X, Y, test_size = 0.2, random_state = 2)"
      ],
      "metadata": {
        "id": "swDUK_t_n00Y"
      },
      "execution_count": 10,
      "outputs": []
    },
    {
      "cell_type": "markdown",
      "source": [
        "standardising the data"
      ],
      "metadata": {
        "id": "fTxo2DUrsXj1"
      }
    },
    {
      "cell_type": "code",
      "source": [
        "standard_scaler = StandardScaler()\n",
        "standard_scaler.fit(X_train)\n",
        "X_train_standardised = standard_scaler.transform(X_train)\n",
        "X_test_standardised = standard_scaler.transform(X_test)\n",
        "X_train_standardised.std()"
      ],
      "metadata": {
        "colab": {
          "base_uri": "https://localhost:8080/"
        },
        "id": "6t929ty4sXDD",
        "outputId": "417fedbd-20fd-4946-c637-710b7677b27e"
      },
      "execution_count": 18,
      "outputs": [
        {
          "output_type": "execute_result",
          "data": {
            "text/plain": [
              "0.9583971477855755"
            ]
          },
          "metadata": {},
          "execution_count": 18
        }
      ]
    },
    {
      "cell_type": "markdown",
      "source": [
        "training the model"
      ],
      "metadata": {
        "id": "DfBnbCpjnCAD"
      }
    },
    {
      "cell_type": "code",
      "source": [
        "logistic_regression = Logistic_Regression(0.01, 1000)\n",
        "logistic_regression.fit(X_train_standardised, Y_train)\n",
        "Y_predict = logistic_regression.predict(X_test_standardised)"
      ],
      "metadata": {
        "id": "f7x-Clq7n--5"
      },
      "execution_count": 20,
      "outputs": []
    },
    {
      "cell_type": "markdown",
      "source": [
        "evaluating the model"
      ],
      "metadata": {
        "id": "AbgTNjNnt5Hw"
      }
    },
    {
      "cell_type": "code",
      "source": [
        "X_train_prediction = logistic_regression.predict(X_train_standardised)\n",
        "training_data_accuracy = accuracy_score(X_train_prediction, Y_train)\n",
        "print(training_data_accuracy)\n",
        "\n",
        "X_test_prediction = logistic_regression.predict(X_test_standardised)\n",
        "test_data_accuracy = accuracy_score(X_test_prediction, Y_test)\n",
        "print(test_data_accuracy)\n"
      ],
      "metadata": {
        "colab": {
          "base_uri": "https://localhost:8080/"
        },
        "id": "LnoW35Rzt-n0",
        "outputId": "41278f92-ada0-462b-a63e-292b3785b3f0"
      },
      "execution_count": 23,
      "outputs": [
        {
          "output_type": "stream",
          "name": "stdout",
          "text": [
            "0.7719869706840391\n",
            "0.7662337662337663\n"
          ]
        }
      ]
    }
  ]
}