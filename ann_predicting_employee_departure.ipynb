{
  "nbformat": 4,
  "nbformat_minor": 0,
  "metadata": {
    "colab": {
      "provenance": []
    },
    "kernelspec": {
      "name": "python3",
      "display_name": "Python 3"
    },
    "language_info": {
      "name": "python"
    }
  },
  "cells": [
    {
      "cell_type": "markdown",
      "source": [
        "import libraries"
      ],
      "metadata": {
        "id": "9A-xAxE8zkCU"
      }
    },
    {
      "cell_type": "code",
      "execution_count": 233,
      "metadata": {
        "id": "CENpwNkHziNT"
      },
      "outputs": [],
      "source": [
        "import pandas as pd\n",
        "import numpy as np\n",
        "import matplotlib.pyplot as plt"
      ]
    },
    {
      "cell_type": "markdown",
      "source": [
        "read the data"
      ],
      "metadata": {
        "id": "17ESI8SUzsCd"
      }
    },
    {
      "cell_type": "code",
      "source": [
        "dataset = pd.read_csv('Churn_Modelling.csv')\n",
        "X = dataset.iloc[:, 3:-1].values\n",
        "Y = dataset.iloc[:, -1].values\n",
        "X"
      ],
      "metadata": {
        "colab": {
          "base_uri": "https://localhost:8080/"
        },
        "id": "tBxj1Bpoz5bO",
        "outputId": "347bd2b0-43ef-4d2a-ff57-0e6187c0d58c"
      },
      "execution_count": 234,
      "outputs": [
        {
          "output_type": "execute_result",
          "data": {
            "text/plain": [
              "array([[619, 'France', 'Female', ..., 1, 1, 101348.88],\n",
              "       [608, 'Spain', 'Female', ..., 0, 1, 112542.58],\n",
              "       [502, 'France', 'Female', ..., 1, 0, 113931.57],\n",
              "       ...,\n",
              "       [709, 'France', 'Female', ..., 0, 1, 42085.58],\n",
              "       [772, 'Germany', 'Male', ..., 1, 0, 92888.52],\n",
              "       [792, 'France', 'Female', ..., 1, 0, 38190.78]], dtype=object)"
            ]
          },
          "metadata": {},
          "execution_count": 234
        }
      ]
    },
    {
      "cell_type": "markdown",
      "source": [
        "encoding categorical values with label encoder"
      ],
      "metadata": {
        "id": "DV0oG-lC2nG7"
      }
    },
    {
      "cell_type": "code",
      "source": [
        "from sklearn.preprocessing import LabelEncoder\n",
        "encoder = LabelEncoder()\n",
        "X[:, 2] = encoder.fit_transform(X[:, 2])\n",
        "X"
      ],
      "metadata": {
        "colab": {
          "base_uri": "https://localhost:8080/"
        },
        "id": "HiVuQFhy2pQ9",
        "outputId": "271314cf-1bcd-42fb-c6ad-7c5a99010831"
      },
      "execution_count": 235,
      "outputs": [
        {
          "output_type": "execute_result",
          "data": {
            "text/plain": [
              "array([[619, 'France', 0, ..., 1, 1, 101348.88],\n",
              "       [608, 'Spain', 0, ..., 0, 1, 112542.58],\n",
              "       [502, 'France', 0, ..., 1, 0, 113931.57],\n",
              "       ...,\n",
              "       [709, 'France', 0, ..., 0, 1, 42085.58],\n",
              "       [772, 'Germany', 1, ..., 1, 0, 92888.52],\n",
              "       [792, 'France', 0, ..., 1, 0, 38190.78]], dtype=object)"
            ]
          },
          "metadata": {},
          "execution_count": 235
        }
      ]
    },
    {
      "cell_type": "markdown",
      "source": [
        "encode categorical values with one hot encoder"
      ],
      "metadata": {
        "id": "L00RWhU9A-QR"
      }
    },
    {
      "cell_type": "code",
      "source": [
        "from sklearn.preprocessing import OneHotEncoder\n",
        "from sklearn.compose import ColumnTransformer\n",
        "\n",
        "ct = ColumnTransformer(transformers = [('encoder', OneHotEncoder(), [1])], remainder = 'passthrough')\n",
        "X = np.array(ct.fit_transform(X))\n",
        "X"
      ],
      "metadata": {
        "colab": {
          "base_uri": "https://localhost:8080/"
        },
        "id": "tFqUVzKIBA6T",
        "outputId": "27e3ea1b-f794-4f65-f13a-96b79a6789de"
      },
      "execution_count": 236,
      "outputs": [
        {
          "output_type": "execute_result",
          "data": {
            "text/plain": [
              "array([[1.0, 0.0, 0.0, ..., 1, 1, 101348.88],\n",
              "       [0.0, 0.0, 1.0, ..., 0, 1, 112542.58],\n",
              "       [1.0, 0.0, 0.0, ..., 1, 0, 113931.57],\n",
              "       ...,\n",
              "       [1.0, 0.0, 0.0, ..., 0, 1, 42085.58],\n",
              "       [0.0, 1.0, 0.0, ..., 1, 0, 92888.52],\n",
              "       [1.0, 0.0, 0.0, ..., 1, 0, 38190.78]], dtype=object)"
            ]
          },
          "metadata": {},
          "execution_count": 236
        }
      ]
    },
    {
      "cell_type": "markdown",
      "source": [
        "split the data"
      ],
      "metadata": {
        "id": "quYQ4xwJELdl"
      }
    },
    {
      "cell_type": "code",
      "source": [
        "from sklearn.model_selection import train_test_split\n",
        "X_train, X_test, Y_train, Y_test = train_test_split(X, Y, test_size = 0.2, random_state = 0)\n",
        "X_train"
      ],
      "metadata": {
        "colab": {
          "base_uri": "https://localhost:8080/"
        },
        "id": "Bq3gFQ_lENxK",
        "outputId": "3e16d225-9b22-41cd-dbec-a67a4b3ad01e"
      },
      "execution_count": 237,
      "outputs": [
        {
          "output_type": "execute_result",
          "data": {
            "text/plain": [
              "array([[0.0, 0.0, 1.0, ..., 1, 0, 163830.64],\n",
              "       [0.0, 1.0, 0.0, ..., 1, 1, 57098.0],\n",
              "       [1.0, 0.0, 0.0, ..., 1, 0, 185630.76],\n",
              "       ...,\n",
              "       [1.0, 0.0, 0.0, ..., 1, 0, 181429.87],\n",
              "       [0.0, 0.0, 1.0, ..., 1, 1, 148750.16],\n",
              "       [0.0, 1.0, 0.0, ..., 1, 0, 118855.26]], dtype=object)"
            ]
          },
          "metadata": {},
          "execution_count": 237
        }
      ]
    },
    {
      "cell_type": "markdown",
      "source": [
        "feature scaling"
      ],
      "metadata": {
        "id": "uab0jkYjEi8H"
      }
    },
    {
      "cell_type": "code",
      "source": [
        "from sklearn.preprocessing import StandardScaler\n",
        "sc = StandardScaler()\n",
        "X_train = sc.fit_transform(X_train)\n",
        "X_test = sc.transform(X_test)"
      ],
      "metadata": {
        "id": "u6k9UN0LEk_X"
      },
      "execution_count": 238,
      "outputs": []
    },
    {
      "cell_type": "markdown",
      "source": [
        "initialise ann"
      ],
      "metadata": {
        "id": "vkmflO6TN8Hy"
      }
    },
    {
      "cell_type": "code",
      "source": [
        "import tensorflow as tf\n",
        "ann = tf.keras.models.Sequential()"
      ],
      "metadata": {
        "id": "Aat5-mO7OCj-"
      },
      "execution_count": 239,
      "outputs": []
    },
    {
      "cell_type": "markdown",
      "source": [
        "add input layer and first hidden layer"
      ],
      "metadata": {
        "id": "r6fftUqdO1zI"
      }
    },
    {
      "cell_type": "code",
      "source": [
        "ann.add(tf.keras.layers.Dense(units = 6, activation = 'relu'))\n"
      ],
      "metadata": {
        "id": "7Oe21iAFPNPY"
      },
      "execution_count": 240,
      "outputs": []
    },
    {
      "cell_type": "markdown",
      "source": [
        "add second hidden layer"
      ],
      "metadata": {
        "id": "HNRrEOm1RHwQ"
      }
    },
    {
      "cell_type": "code",
      "source": [
        "ann.add(tf.keras.layers.Dense(units = 5, activation = 'relu'))"
      ],
      "metadata": {
        "id": "Ts6uD0XARJKV"
      },
      "execution_count": 241,
      "outputs": []
    },
    {
      "cell_type": "markdown",
      "source": [
        "add the output layer"
      ],
      "metadata": {
        "id": "yyZiH8W6RVca"
      }
    },
    {
      "cell_type": "code",
      "source": [
        "ann.add(tf.keras.layers.Dense(units = 1, activation = 'sigmoid'))"
      ],
      "metadata": {
        "id": "AhKKUeCgRW0p"
      },
      "execution_count": 242,
      "outputs": []
    },
    {
      "cell_type": "markdown",
      "source": [
        "compile the ann"
      ],
      "metadata": {
        "id": "BCoUX9LDUWoF"
      }
    },
    {
      "cell_type": "code",
      "source": [
        "ann.compile(optimizer = 'adam', loss = 'binary_crossentropy', metrics = ['accuracy'])"
      ],
      "metadata": {
        "id": "GJIl6rDmUX-v"
      },
      "execution_count": 243,
      "outputs": []
    },
    {
      "cell_type": "markdown",
      "source": [
        "train the ann"
      ],
      "metadata": {
        "id": "Z1TnBhkRWd1y"
      }
    },
    {
      "cell_type": "code",
      "source": [
        "ann.fit(X_train, Y_train, batch_size = 32, epochs = 100)"
      ],
      "metadata": {
        "colab": {
          "base_uri": "https://localhost:8080/"
        },
        "id": "HaWfidg3We1T",
        "outputId": "557c99d2-6e05-4cd8-bd97-4d40a77ff334"
      },
      "execution_count": 244,
      "outputs": [
        {
          "output_type": "stream",
          "name": "stdout",
          "text": [
            "Epoch 1/100\n",
            "250/250 [==============================] - 1s 2ms/step - loss: 0.5287 - accuracy: 0.7960\n",
            "Epoch 2/100\n",
            "250/250 [==============================] - 0s 2ms/step - loss: 0.4632 - accuracy: 0.7960\n",
            "Epoch 3/100\n",
            "250/250 [==============================] - 0s 2ms/step - loss: 0.4433 - accuracy: 0.7960\n",
            "Epoch 4/100\n",
            "250/250 [==============================] - 0s 2ms/step - loss: 0.4343 - accuracy: 0.7959\n",
            "Epoch 5/100\n",
            "250/250 [==============================] - 0s 2ms/step - loss: 0.4285 - accuracy: 0.7961\n",
            "Epoch 6/100\n",
            "250/250 [==============================] - 0s 2ms/step - loss: 0.4236 - accuracy: 0.8015\n",
            "Epoch 7/100\n",
            "250/250 [==============================] - 0s 2ms/step - loss: 0.4197 - accuracy: 0.8114\n",
            "Epoch 8/100\n",
            "250/250 [==============================] - 0s 2ms/step - loss: 0.4158 - accuracy: 0.8171\n",
            "Epoch 9/100\n",
            "250/250 [==============================] - 0s 2ms/step - loss: 0.4107 - accuracy: 0.8223\n",
            "Epoch 10/100\n",
            "250/250 [==============================] - 0s 2ms/step - loss: 0.4046 - accuracy: 0.8280\n",
            "Epoch 11/100\n",
            "250/250 [==============================] - 0s 2ms/step - loss: 0.3970 - accuracy: 0.8334\n",
            "Epoch 12/100\n",
            "250/250 [==============================] - 0s 2ms/step - loss: 0.3896 - accuracy: 0.8359\n",
            "Epoch 13/100\n",
            "250/250 [==============================] - 0s 2ms/step - loss: 0.3817 - accuracy: 0.8415\n",
            "Epoch 14/100\n",
            "250/250 [==============================] - 1s 3ms/step - loss: 0.3731 - accuracy: 0.8474\n",
            "Epoch 15/100\n",
            "250/250 [==============================] - 1s 3ms/step - loss: 0.3646 - accuracy: 0.8515\n",
            "Epoch 16/100\n",
            "250/250 [==============================] - 1s 3ms/step - loss: 0.3577 - accuracy: 0.8560\n",
            "Epoch 17/100\n",
            "250/250 [==============================] - 1s 2ms/step - loss: 0.3527 - accuracy: 0.8565\n",
            "Epoch 18/100\n",
            "250/250 [==============================] - 0s 2ms/step - loss: 0.3495 - accuracy: 0.8572\n",
            "Epoch 19/100\n",
            "250/250 [==============================] - 0s 2ms/step - loss: 0.3473 - accuracy: 0.8576\n",
            "Epoch 20/100\n",
            "250/250 [==============================] - 0s 2ms/step - loss: 0.3455 - accuracy: 0.8604\n",
            "Epoch 21/100\n",
            "250/250 [==============================] - 0s 2ms/step - loss: 0.3446 - accuracy: 0.8616\n",
            "Epoch 22/100\n",
            "250/250 [==============================] - 0s 2ms/step - loss: 0.3430 - accuracy: 0.8612\n",
            "Epoch 23/100\n",
            "250/250 [==============================] - 0s 2ms/step - loss: 0.3424 - accuracy: 0.8611\n",
            "Epoch 24/100\n",
            "250/250 [==============================] - 0s 2ms/step - loss: 0.3417 - accuracy: 0.8611\n",
            "Epoch 25/100\n",
            "250/250 [==============================] - 0s 2ms/step - loss: 0.3409 - accuracy: 0.8618\n",
            "Epoch 26/100\n",
            "250/250 [==============================] - 0s 2ms/step - loss: 0.3406 - accuracy: 0.8615\n",
            "Epoch 27/100\n",
            "250/250 [==============================] - 0s 2ms/step - loss: 0.3400 - accuracy: 0.8622\n",
            "Epoch 28/100\n",
            "250/250 [==============================] - 0s 2ms/step - loss: 0.3396 - accuracy: 0.8631\n",
            "Epoch 29/100\n",
            "250/250 [==============================] - 0s 2ms/step - loss: 0.3389 - accuracy: 0.8624\n",
            "Epoch 30/100\n",
            "250/250 [==============================] - 0s 2ms/step - loss: 0.3386 - accuracy: 0.8629\n",
            "Epoch 31/100\n",
            "250/250 [==============================] - 0s 2ms/step - loss: 0.3377 - accuracy: 0.8639\n",
            "Epoch 32/100\n",
            "250/250 [==============================] - 0s 2ms/step - loss: 0.3377 - accuracy: 0.8616\n",
            "Epoch 33/100\n",
            "250/250 [==============================] - 0s 2ms/step - loss: 0.3371 - accuracy: 0.8633\n",
            "Epoch 34/100\n",
            "250/250 [==============================] - 0s 2ms/step - loss: 0.3368 - accuracy: 0.8639\n",
            "Epoch 35/100\n",
            "250/250 [==============================] - 0s 2ms/step - loss: 0.3368 - accuracy: 0.8631\n",
            "Epoch 36/100\n",
            "250/250 [==============================] - 0s 2ms/step - loss: 0.3363 - accuracy: 0.8622\n",
            "Epoch 37/100\n",
            "250/250 [==============================] - 0s 2ms/step - loss: 0.3358 - accuracy: 0.8618\n",
            "Epoch 38/100\n",
            "250/250 [==============================] - 0s 2ms/step - loss: 0.3357 - accuracy: 0.8619\n",
            "Epoch 39/100\n",
            "250/250 [==============================] - 1s 2ms/step - loss: 0.3358 - accuracy: 0.8630\n",
            "Epoch 40/100\n",
            "250/250 [==============================] - 1s 3ms/step - loss: 0.3356 - accuracy: 0.8612\n",
            "Epoch 41/100\n",
            "250/250 [==============================] - 1s 3ms/step - loss: 0.3352 - accuracy: 0.8616\n",
            "Epoch 42/100\n",
            "250/250 [==============================] - 1s 3ms/step - loss: 0.3348 - accuracy: 0.8614\n",
            "Epoch 43/100\n",
            "250/250 [==============================] - 1s 2ms/step - loss: 0.3348 - accuracy: 0.8615\n",
            "Epoch 44/100\n",
            "250/250 [==============================] - 0s 2ms/step - loss: 0.3348 - accuracy: 0.8616\n",
            "Epoch 45/100\n",
            "250/250 [==============================] - 0s 2ms/step - loss: 0.3346 - accuracy: 0.8618\n",
            "Epoch 46/100\n",
            "250/250 [==============================] - 0s 2ms/step - loss: 0.3339 - accuracy: 0.8624\n",
            "Epoch 47/100\n",
            "250/250 [==============================] - 0s 2ms/step - loss: 0.3344 - accuracy: 0.8622\n",
            "Epoch 48/100\n",
            "250/250 [==============================] - 0s 2ms/step - loss: 0.3337 - accuracy: 0.8625\n",
            "Epoch 49/100\n",
            "250/250 [==============================] - 0s 2ms/step - loss: 0.3338 - accuracy: 0.8625\n",
            "Epoch 50/100\n",
            "250/250 [==============================] - 0s 2ms/step - loss: 0.3341 - accuracy: 0.8629\n",
            "Epoch 51/100\n",
            "250/250 [==============================] - 0s 2ms/step - loss: 0.3337 - accuracy: 0.8634\n",
            "Epoch 52/100\n",
            "250/250 [==============================] - 0s 2ms/step - loss: 0.3333 - accuracy: 0.8627\n",
            "Epoch 53/100\n",
            "250/250 [==============================] - 0s 2ms/step - loss: 0.3335 - accuracy: 0.8636\n",
            "Epoch 54/100\n",
            "250/250 [==============================] - 0s 2ms/step - loss: 0.3336 - accuracy: 0.8627\n",
            "Epoch 55/100\n",
            "250/250 [==============================] - 0s 2ms/step - loss: 0.3330 - accuracy: 0.8639\n",
            "Epoch 56/100\n",
            "250/250 [==============================] - 0s 2ms/step - loss: 0.3332 - accuracy: 0.8631\n",
            "Epoch 57/100\n",
            "250/250 [==============================] - 0s 2ms/step - loss: 0.3333 - accuracy: 0.8626\n",
            "Epoch 58/100\n",
            "250/250 [==============================] - 0s 2ms/step - loss: 0.3330 - accuracy: 0.8629\n",
            "Epoch 59/100\n",
            "250/250 [==============================] - 0s 2ms/step - loss: 0.3328 - accuracy: 0.8625\n",
            "Epoch 60/100\n",
            "250/250 [==============================] - 0s 2ms/step - loss: 0.3326 - accuracy: 0.8636\n",
            "Epoch 61/100\n",
            "250/250 [==============================] - 0s 2ms/step - loss: 0.3331 - accuracy: 0.8637\n",
            "Epoch 62/100\n",
            "250/250 [==============================] - 0s 2ms/step - loss: 0.3328 - accuracy: 0.8625\n",
            "Epoch 63/100\n",
            "250/250 [==============================] - 0s 2ms/step - loss: 0.3325 - accuracy: 0.8643\n",
            "Epoch 64/100\n",
            "250/250 [==============================] - 0s 2ms/step - loss: 0.3325 - accuracy: 0.8633\n",
            "Epoch 65/100\n",
            "250/250 [==============================] - 1s 3ms/step - loss: 0.3327 - accuracy: 0.8621\n",
            "Epoch 66/100\n",
            "250/250 [==============================] - 1s 3ms/step - loss: 0.3327 - accuracy: 0.8626\n",
            "Epoch 67/100\n",
            "250/250 [==============================] - 1s 3ms/step - loss: 0.3323 - accuracy: 0.8625\n",
            "Epoch 68/100\n",
            "250/250 [==============================] - 1s 3ms/step - loss: 0.3324 - accuracy: 0.8631\n",
            "Epoch 69/100\n",
            "250/250 [==============================] - 0s 2ms/step - loss: 0.3319 - accuracy: 0.8644\n",
            "Epoch 70/100\n",
            "250/250 [==============================] - 0s 2ms/step - loss: 0.3319 - accuracy: 0.8635\n",
            "Epoch 71/100\n",
            "250/250 [==============================] - 0s 2ms/step - loss: 0.3325 - accuracy: 0.8644\n",
            "Epoch 72/100\n",
            "250/250 [==============================] - 0s 2ms/step - loss: 0.3319 - accuracy: 0.8646\n",
            "Epoch 73/100\n",
            "250/250 [==============================] - 0s 2ms/step - loss: 0.3321 - accuracy: 0.8620\n",
            "Epoch 74/100\n",
            "250/250 [==============================] - 0s 2ms/step - loss: 0.3318 - accuracy: 0.8635\n",
            "Epoch 75/100\n",
            "250/250 [==============================] - 0s 2ms/step - loss: 0.3325 - accuracy: 0.8634\n",
            "Epoch 76/100\n",
            "250/250 [==============================] - 0s 2ms/step - loss: 0.3317 - accuracy: 0.8644\n",
            "Epoch 77/100\n",
            "250/250 [==============================] - 0s 2ms/step - loss: 0.3319 - accuracy: 0.8626\n",
            "Epoch 78/100\n",
            "250/250 [==============================] - 0s 2ms/step - loss: 0.3321 - accuracy: 0.8630\n",
            "Epoch 79/100\n",
            "250/250 [==============================] - 0s 2ms/step - loss: 0.3321 - accuracy: 0.8637\n",
            "Epoch 80/100\n",
            "250/250 [==============================] - 0s 2ms/step - loss: 0.3319 - accuracy: 0.8643\n",
            "Epoch 81/100\n",
            "250/250 [==============================] - 0s 2ms/step - loss: 0.3315 - accuracy: 0.8645\n",
            "Epoch 82/100\n",
            "250/250 [==============================] - 0s 2ms/step - loss: 0.3315 - accuracy: 0.8636\n",
            "Epoch 83/100\n",
            "250/250 [==============================] - 0s 2ms/step - loss: 0.3319 - accuracy: 0.8637\n",
            "Epoch 84/100\n",
            "250/250 [==============================] - 0s 2ms/step - loss: 0.3318 - accuracy: 0.8637\n",
            "Epoch 85/100\n",
            "250/250 [==============================] - 0s 2ms/step - loss: 0.3317 - accuracy: 0.8630\n",
            "Epoch 86/100\n",
            "250/250 [==============================] - 0s 2ms/step - loss: 0.3314 - accuracy: 0.8640\n",
            "Epoch 87/100\n",
            "250/250 [==============================] - 0s 2ms/step - loss: 0.3315 - accuracy: 0.8643\n",
            "Epoch 88/100\n",
            "250/250 [==============================] - 0s 2ms/step - loss: 0.3318 - accuracy: 0.8634\n",
            "Epoch 89/100\n",
            "250/250 [==============================] - 0s 2ms/step - loss: 0.3318 - accuracy: 0.8636\n",
            "Epoch 90/100\n",
            "250/250 [==============================] - 0s 2ms/step - loss: 0.3316 - accuracy: 0.8630\n",
            "Epoch 91/100\n",
            "250/250 [==============================] - 1s 3ms/step - loss: 0.3316 - accuracy: 0.8636\n",
            "Epoch 92/100\n",
            "250/250 [==============================] - 1s 2ms/step - loss: 0.3316 - accuracy: 0.8641\n",
            "Epoch 93/100\n",
            "250/250 [==============================] - 1s 3ms/step - loss: 0.3313 - accuracy: 0.8652\n",
            "Epoch 94/100\n",
            "250/250 [==============================] - 1s 2ms/step - loss: 0.3313 - accuracy: 0.8658\n",
            "Epoch 95/100\n",
            "250/250 [==============================] - 0s 2ms/step - loss: 0.3312 - accuracy: 0.8634\n",
            "Epoch 96/100\n",
            "250/250 [==============================] - 0s 2ms/step - loss: 0.3311 - accuracy: 0.8650\n",
            "Epoch 97/100\n",
            "250/250 [==============================] - 0s 2ms/step - loss: 0.3313 - accuracy: 0.8629\n",
            "Epoch 98/100\n",
            "250/250 [==============================] - 0s 2ms/step - loss: 0.3314 - accuracy: 0.8640\n",
            "Epoch 99/100\n",
            "250/250 [==============================] - 0s 2ms/step - loss: 0.3311 - accuracy: 0.8644\n",
            "Epoch 100/100\n",
            "250/250 [==============================] - 0s 2ms/step - loss: 0.3314 - accuracy: 0.8637\n"
          ]
        },
        {
          "output_type": "execute_result",
          "data": {
            "text/plain": [
              "<keras.src.callbacks.History at 0x7bb9f551c100>"
            ]
          },
          "metadata": {},
          "execution_count": 244
        }
      ]
    },
    {
      "cell_type": "markdown",
      "source": [
        "predict a certain row"
      ],
      "metadata": {
        "id": "p5QgRipBgdJX"
      }
    },
    {
      "cell_type": "code",
      "source": [
        "ann.predict(sc.transform([[1, 0, 0, 600, 1, 40, 3, 60000, 2, 1, 1, 50000]]))"
      ],
      "metadata": {
        "colab": {
          "base_uri": "https://localhost:8080/"
        },
        "id": "KinnzWcggfbH",
        "outputId": "8f4bb46c-dd7d-4fc5-e1f8-1b34396cc5e6"
      },
      "execution_count": 245,
      "outputs": [
        {
          "output_type": "stream",
          "name": "stdout",
          "text": [
            "1/1 [==============================] - 0s 196ms/step\n"
          ]
        },
        {
          "output_type": "execute_result",
          "data": {
            "text/plain": [
              "array([[0.03459853]], dtype=float32)"
            ]
          },
          "metadata": {},
          "execution_count": 245
        }
      ]
    },
    {
      "cell_type": "markdown",
      "source": [
        "predict test set results"
      ],
      "metadata": {
        "id": "Z8bYu8c2mint"
      }
    },
    {
      "cell_type": "code",
      "source": [
        "Y_predict = np.where(ann.predict(X_test) > 0.5, 1, 0)\n",
        "np.concatenate((Y_predict.reshape(len(Y_predict), 1), Y_test.reshape(len(Y_test), 1)), axis = 1)"
      ],
      "metadata": {
        "colab": {
          "base_uri": "https://localhost:8080/"
        },
        "id": "q8SuHzxomk3K",
        "outputId": "f954435b-5c36-4032-f705-fd596f59fa50"
      },
      "execution_count": 248,
      "outputs": [
        {
          "output_type": "stream",
          "name": "stdout",
          "text": [
            "63/63 [==============================] - 0s 2ms/step\n"
          ]
        },
        {
          "output_type": "execute_result",
          "data": {
            "text/plain": [
              "array([[0, 0],\n",
              "       [0, 1],\n",
              "       [0, 0],\n",
              "       ...,\n",
              "       [0, 0],\n",
              "       [0, 0],\n",
              "       [0, 0]])"
            ]
          },
          "metadata": {},
          "execution_count": 248
        }
      ]
    },
    {
      "cell_type": "markdown",
      "source": [
        "evaluate the model"
      ],
      "metadata": {
        "id": "6nPLJn9lncy3"
      }
    },
    {
      "cell_type": "code",
      "source": [
        "from sklearn.metrics import accuracy_score\n",
        "accuracy = accuracy_score(Y_predict, Y_test)\n",
        "print('accuracy is =', accuracy)"
      ],
      "metadata": {
        "colab": {
          "base_uri": "https://localhost:8080/"
        },
        "id": "WuLGtsHcnfzQ",
        "outputId": "3092dda6-6e60-4dd1-a2c6-c917c894e8c1"
      },
      "execution_count": 250,
      "outputs": [
        {
          "output_type": "stream",
          "name": "stdout",
          "text": [
            "accuracy is = 0.859\n"
          ]
        }
      ]
    }
  ]
}