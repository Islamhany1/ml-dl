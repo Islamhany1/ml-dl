{
  "nbformat": 4,
  "nbformat_minor": 0,
  "metadata": {
    "colab": {
      "provenance": []
    },
    "kernelspec": {
      "name": "python3",
      "display_name": "Python 3"
    },
    "language_info": {
      "name": "python"
    }
  },
  "cells": [
    {
      "cell_type": "markdown",
      "source": [
        "import libraries\n",
        "\n"
      ],
      "metadata": {
        "id": "i9raaLLpoOF7"
      }
    },
    {
      "cell_type": "code",
      "execution_count": 4,
      "metadata": {
        "id": "X6Xebim1iENL"
      },
      "outputs": [],
      "source": [
        "import numpy as np\n",
        "import pandas as pd\n",
        "from sklearn.model_selection import cross_val_score\n",
        "from sklearn.model_selection import GridSearchCV\n"
      ]
    },
    {
      "cell_type": "markdown",
      "source": [
        "import models"
      ],
      "metadata": {
        "id": "XCo_1WA8oe5-"
      }
    },
    {
      "cell_type": "code",
      "source": [
        "from sklearn.linear_model import LogisticRegression\n",
        "from sklearn.ensemble import RandomForestClassifier\n",
        "from sklearn.svm import SVC\n",
        "from sklearn.neighbors import KNeighborsClassifier"
      ],
      "metadata": {
        "id": "T1SRpwYAoh2N"
      },
      "execution_count": 5,
      "outputs": []
    },
    {
      "cell_type": "markdown",
      "source": [
        "read the data and seperete it into x and y"
      ],
      "metadata": {
        "id": "_g3Wnph5o59M"
      }
    },
    {
      "cell_type": "code",
      "source": [
        "heart_df = pd.read_csv('heart.csv')\n",
        "X = heart_df.drop(columns = 'target', axis = 1)\n",
        "Y = heart_df.target"
      ],
      "metadata": {
        "id": "l5Mcv5KnpU6r"
      },
      "execution_count": 6,
      "outputs": []
    },
    {
      "cell_type": "markdown",
      "source": [
        "get some info about the dataset"
      ],
      "metadata": {
        "id": "H1CERsKUp4h2"
      }
    },
    {
      "cell_type": "code",
      "source": [
        "print(heart_df.isnull().sum())\n",
        "print(heart_df.describe())\n",
        "Y.value_counts()\n"
      ],
      "metadata": {
        "colab": {
          "base_uri": "https://localhost:8080/"
        },
        "id": "XvnRH_NEp6n_",
        "outputId": "f71ba4d2-9a6a-4959-9573-93b2d3a9fd9c"
      },
      "execution_count": 7,
      "outputs": [
        {
          "output_type": "stream",
          "name": "stdout",
          "text": [
            "age         0\n",
            "sex         0\n",
            "cp          0\n",
            "trestbps    0\n",
            "chol        0\n",
            "fbs         0\n",
            "restecg     0\n",
            "thalach     0\n",
            "exang       0\n",
            "oldpeak     0\n",
            "slope       0\n",
            "ca          0\n",
            "thal        0\n",
            "target      0\n",
            "dtype: int64\n",
            "              age         sex          cp    trestbps        chol         fbs  \\\n",
            "count  303.000000  303.000000  303.000000  303.000000  303.000000  303.000000   \n",
            "mean    54.366337    0.683168    0.966997  131.623762  246.264026    0.148515   \n",
            "std      9.082101    0.466011    1.032052   17.538143   51.830751    0.356198   \n",
            "min     29.000000    0.000000    0.000000   94.000000  126.000000    0.000000   \n",
            "25%     47.500000    0.000000    0.000000  120.000000  211.000000    0.000000   \n",
            "50%     55.000000    1.000000    1.000000  130.000000  240.000000    0.000000   \n",
            "75%     61.000000    1.000000    2.000000  140.000000  274.500000    0.000000   \n",
            "max     77.000000    1.000000    3.000000  200.000000  564.000000    1.000000   \n",
            "\n",
            "          restecg     thalach       exang     oldpeak       slope          ca  \\\n",
            "count  303.000000  303.000000  303.000000  303.000000  303.000000  303.000000   \n",
            "mean     0.528053  149.646865    0.326733    1.039604    1.399340    0.729373   \n",
            "std      0.525860   22.905161    0.469794    1.161075    0.616226    1.022606   \n",
            "min      0.000000   71.000000    0.000000    0.000000    0.000000    0.000000   \n",
            "25%      0.000000  133.500000    0.000000    0.000000    1.000000    0.000000   \n",
            "50%      1.000000  153.000000    0.000000    0.800000    1.000000    0.000000   \n",
            "75%      1.000000  166.000000    1.000000    1.600000    2.000000    1.000000   \n",
            "max      2.000000  202.000000    1.000000    6.200000    2.000000    4.000000   \n",
            "\n",
            "             thal      target  \n",
            "count  303.000000  303.000000  \n",
            "mean     2.313531    0.544554  \n",
            "std      0.612277    0.498835  \n",
            "min      0.000000    0.000000  \n",
            "25%      2.000000    0.000000  \n",
            "50%      2.000000    1.000000  \n",
            "75%      3.000000    1.000000  \n",
            "max      3.000000    1.000000  \n"
          ]
        },
        {
          "output_type": "execute_result",
          "data": {
            "text/plain": [
              "1    165\n",
              "0    138\n",
              "Name: target, dtype: int64"
            ]
          },
          "metadata": {},
          "execution_count": 7
        }
      ]
    },
    {
      "cell_type": "markdown",
      "source": [
        "#model selection"
      ],
      "metadata": {
        "id": "g56awQH9qahb"
      }
    },
    {
      "cell_type": "markdown",
      "source": [
        "#compare different models without hyperparameter tuning"
      ],
      "metadata": {
        "id": "GDjhnVkLqz3v"
      }
    },
    {
      "cell_type": "markdown",
      "source": [
        "create the models"
      ],
      "metadata": {
        "id": "kKfDLN4oqhxf"
      }
    },
    {
      "cell_type": "code",
      "source": [
        "models = [LogisticRegression(max_iter = 1000), SVC(kernel = 'linear'), RandomForestClassifier(), KNeighborsClassifier()]\n"
      ],
      "metadata": {
        "id": "qZ4wZfeCqjG2"
      },
      "execution_count": 8,
      "outputs": []
    },
    {
      "cell_type": "markdown",
      "source": [],
      "metadata": {
        "id": "ARgSfZ0UqdJX"
      }
    },
    {
      "cell_type": "markdown",
      "source": [
        "train and evaluate the models"
      ],
      "metadata": {
        "id": "GbE_ibrkrTe6"
      }
    },
    {
      "cell_type": "code",
      "source": [
        "\n",
        "for model in models:\n",
        "  all_accuracy = cross_val_score(model, X, Y, cv = 5)\n",
        "  mean_accuracy = np.sum(all_accuracy) / len(all_accuracy)\n",
        "  print('accuracy of model', model, '=', mean_accuracy)\n"
      ],
      "metadata": {
        "colab": {
          "base_uri": "https://localhost:8080/"
        },
        "id": "l3tRt7kvrV55",
        "outputId": "7d9d5196-5d7e-453a-dba4-0ad4d455d55f"
      },
      "execution_count": 9,
      "outputs": [
        {
          "output_type": "stream",
          "name": "stdout",
          "text": [
            "accuracy of model LogisticRegression(max_iter=1000) = 0.8282513661202187\n",
            "accuracy of model SVC(kernel='linear') = 0.8283060109289618\n",
            "accuracy of model RandomForestClassifier() = 0.8249726775956283\n",
            "accuracy of model KNeighborsClassifier() = 0.643879781420765\n"
          ]
        }
      ]
    },
    {
      "cell_type": "markdown",
      "source": [
        "#compare different models with hyperparameter tuning"
      ],
      "metadata": {
        "id": "YrtwTuGnVz-t"
      }
    },
    {
      "cell_type": "code",
      "source": [
        "models_list = [LogisticRegression(max_iter = 10000), SVC(), RandomForestClassifier(), KNeighborsClassifier()]\n",
        "models_hyperparameters = {\n",
        "    'log_regression_params': {\n",
        "        'C': [1, 5, 10, 20]\n",
        "    },\n",
        "    'svc_params': {\n",
        "        'kernel': ['linear', 'poly', 'rbf', 'sigmoid'],\n",
        "        'C': [1, 5, 10, 20]\n",
        "    },\n",
        "    'random_forest_params': {\n",
        "        'n_estimators': [10, 20, 50, 100]\n",
        "    },\n",
        "    'kneighbors_params': {\n",
        "        'n_neighbors': [3, 5, 10]\n",
        "    }\n",
        "\n",
        "}\n",
        "\n",
        "models_keys = list(models_hyperparameters.keys())\n",
        "\n",
        "models_classifiers = []\n",
        "for index, model in enumerate(models_list):\n",
        "  classifier = GridSearchCV(model, models_hyperparameters[models_keys[index]], cv = 5)\n",
        "  classifier.fit(X, Y)\n",
        "  result = pd.DataFrame(classifier.cv_results_)\n",
        "  result = result[['mean_test_score', 'params']]\n",
        "  print(result)\n",
        "  print('best accuracy of model', model, classifier.best_score_)\n",
        "  print('best params of model', model, classifier.best_params_)\n",
        "  print('-------------------------------------------------------------')"
      ],
      "metadata": {
        "colab": {
          "base_uri": "https://localhost:8080/"
        },
        "id": "Ni8Y0pfMV4eP",
        "outputId": "b79174fe-3c5f-4d7f-92b2-08d797041451"
      },
      "execution_count": 25,
      "outputs": [
        {
          "output_type": "stream",
          "name": "stdout",
          "text": [
            "   mean_test_score     params\n",
            "0         0.828251   {'C': 1}\n",
            "1         0.831585   {'C': 5}\n",
            "2         0.828306  {'C': 10}\n",
            "3         0.828306  {'C': 20}\n",
            "best accuracy of model LogisticRegression(max_iter=10000) 0.831584699453552\n",
            "best params of model LogisticRegression(max_iter=10000) {'C': 5}\n",
            "-------------------------------------------------------------\n",
            "    mean_test_score                          params\n",
            "0          0.828306    {'C': 1, 'kernel': 'linear'}\n",
            "1          0.653443      {'C': 1, 'kernel': 'poly'}\n",
            "2          0.643497       {'C': 1, 'kernel': 'rbf'}\n",
            "3          0.541311   {'C': 1, 'kernel': 'sigmoid'}\n",
            "4          0.818306    {'C': 5, 'kernel': 'linear'}\n",
            "5          0.699945      {'C': 5, 'kernel': 'poly'}\n",
            "6          0.686503       {'C': 5, 'kernel': 'rbf'}\n",
            "7          0.518033   {'C': 5, 'kernel': 'sigmoid'}\n",
            "8          0.818470   {'C': 10, 'kernel': 'linear'}\n",
            "9          0.699891     {'C': 10, 'kernel': 'poly'}\n",
            "10         0.699781      {'C': 10, 'kernel': 'rbf'}\n",
            "11         0.508142  {'C': 10, 'kernel': 'sigmoid'}\n",
            "12         0.818306   {'C': 20, 'kernel': 'linear'}\n",
            "13         0.712896     {'C': 20, 'kernel': 'poly'}\n",
            "14         0.703169      {'C': 20, 'kernel': 'rbf'}\n",
            "15         0.508087  {'C': 20, 'kernel': 'sigmoid'}\n",
            "best accuracy of model SVC() 0.8283060109289618\n",
            "best params of model SVC() {'C': 1, 'kernel': 'linear'}\n",
            "-------------------------------------------------------------\n",
            "   mean_test_score                 params\n",
            "0         0.818306   {'n_estimators': 10}\n",
            "1         0.791858   {'n_estimators': 20}\n",
            "2         0.818415   {'n_estimators': 50}\n",
            "3         0.824918  {'n_estimators': 100}\n",
            "best accuracy of model RandomForestClassifier() 0.8249180327868851\n",
            "best params of model RandomForestClassifier() {'n_estimators': 100}\n",
            "-------------------------------------------------------------\n",
            "   mean_test_score               params\n",
            "0         0.610929   {'n_neighbors': 3}\n",
            "1         0.643880   {'n_neighbors': 5}\n",
            "2         0.630492  {'n_neighbors': 10}\n",
            "best accuracy of model KNeighborsClassifier() 0.643879781420765\n",
            "best params of model KNeighborsClassifier() {'n_neighbors': 5}\n",
            "-------------------------------------------------------------\n"
          ]
        }
      ]
    }
  ]
}