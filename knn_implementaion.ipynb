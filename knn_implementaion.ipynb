{
  "nbformat": 4,
  "nbformat_minor": 0,
  "metadata": {
    "colab": {
      "provenance": []
    },
    "kernelspec": {
      "name": "python3",
      "display_name": "Python 3"
    },
    "language_info": {
      "name": "python"
    }
  },
  "cells": [
    {
      "cell_type": "markdown",
      "source": [
        "import libraries"
      ],
      "metadata": {
        "id": "Tk4SnnaPZSM7"
      }
    },
    {
      "cell_type": "code",
      "execution_count": 140,
      "metadata": {
        "id": "-bxyQOFlZRYk"
      },
      "outputs": [],
      "source": [
        "import pandas as pd\n",
        "import numpy as np\n",
        "import matplotlib.pyplot as plt\n",
        "import statistics"
      ]
    },
    {
      "cell_type": "markdown",
      "source": [
        "create KNN classifier"
      ],
      "metadata": {
        "id": "uTEoU-3HZZHU"
      }
    },
    {
      "cell_type": "code",
      "source": [
        "class KNN():\n",
        "\n",
        "  def __init__(self, distance_metric, n_neighbors):\n",
        "    self.distance_metric = distance_metric\n",
        "    self.n_neighbors = n_neighbors\n",
        "\n",
        "  def fit(self, X_train):\n",
        "    self.X_train = X_train\n",
        "\n",
        "  def get_distance(self, p1, p2):\n",
        "    dist = 0\n",
        "\n",
        "    for i in range(len(p1) - 1): # - 1 skip the label\n",
        "      if (self.distance_metric == 'euclidean'):\n",
        "        dist += (p1[i] - p2[i]) ** 2\n",
        "      else:\n",
        "        dist += np.abs(p1[i] - p2[i])\n",
        "\n",
        "    if (self.distance_metric == 'euclidean'):\n",
        "      return np.sqrt(dist)\n",
        "    return dist\n",
        "\n",
        "\n",
        "  def get_nearest_neighbor(self, test_point):\n",
        "    distance_list = []\n",
        "    for train_point in self.X_train:\n",
        "      distance = self.get_distance(train_point, test_point)\n",
        "      distance_list.append([train_point, distance])\n",
        "\n",
        "    distance_list.sort(key=lambda x:x[1])\n",
        "    neighbors = []\n",
        "\n",
        "    for i in range(self.n_neighbors):\n",
        "      neighbors.append(distance_list[i][0])\n",
        "\n",
        "    return neighbors\n",
        "\n",
        "  def predict(self, test_data):\n",
        "    Y_predict = []\n",
        "    for test_point in test_data:\n",
        "      neighbors = self.get_nearest_neighbor(test_point)\n",
        "      labels = [neighbor[-1] for neighbor in neighbors]\n",
        "      prediction = statistics.mode(labels)\n",
        "      Y_predict.append(prediction)\n",
        "\n",
        "    return Y_predict\n"
      ],
      "metadata": {
        "id": "-q9V9HgNZbZa"
      },
      "execution_count": 141,
      "outputs": []
    },
    {
      "cell_type": "markdown",
      "source": [
        "read data"
      ],
      "metadata": {
        "id": "kUz01hkglv5Z"
      }
    },
    {
      "cell_type": "code",
      "source": [
        "dataset = pd.read_csv('diabetes.csv')\n",
        "X = dataset.iloc[:, :].values\n",
        "Y = dataset.iloc[:, -1].values\n"
      ],
      "metadata": {
        "id": "k4fYaP6DlxPD"
      },
      "execution_count": 142,
      "outputs": []
    },
    {
      "cell_type": "markdown",
      "source": [
        "split the data"
      ],
      "metadata": {
        "id": "aVXQocjEmBbA"
      }
    },
    {
      "cell_type": "code",
      "source": [
        "from sklearn.model_selection import train_test_split\n",
        "X_train, X_test, Y_train, Y_test = train_test_split(X, Y, test_size = 0.2, random_state = 0)\n"
      ],
      "metadata": {
        "id": "tDvZIYzRmCL8"
      },
      "execution_count": 143,
      "outputs": []
    },
    {
      "cell_type": "markdown",
      "source": [
        "standardise the data"
      ],
      "metadata": {
        "id": "5PI1F8Y-mXwJ"
      }
    },
    {
      "cell_type": "code",
      "source": [
        "from sklearn.preprocessing import StandardScaler\n",
        "scaler = StandardScaler()\n",
        "X_train[:, :-1] = scaler.fit_transform(X_train[:, :-1])\n",
        "X_test[:, :-1] = scaler.transform(X_test[:, :-1])"
      ],
      "metadata": {
        "id": "W0alDFDHmZBq"
      },
      "execution_count": 144,
      "outputs": []
    },
    {
      "cell_type": "markdown",
      "source": [
        "train the model"
      ],
      "metadata": {
        "id": "zDYHIa54mMuM"
      }
    },
    {
      "cell_type": "code",
      "source": [
        "kneareast_classifier = KNN(distance_metric = 'euclidean', n_neighbors = 5)\n",
        "kneareast_classifier.fit(X_train)\n"
      ],
      "metadata": {
        "id": "XEwWdyTamNyc"
      },
      "execution_count": 145,
      "outputs": []
    },
    {
      "cell_type": "markdown",
      "source": [
        "visualise test results"
      ],
      "metadata": {
        "id": "SfHBYDrFmpys"
      }
    },
    {
      "cell_type": "code",
      "source": [
        "from sklearn.metrics import accuracy_score, confusion_matrix\n",
        "import seaborn as sns\n",
        "\n",
        "Y_predict = kneareast_classifier.predict(X_test)\n",
        "cm = confusion_matrix(Y_test, Y_predict)\n",
        "accuracy_score = accuracy_score(Y_test, Y_predict)\n",
        "print('accuracy score for the model =', accuracy_score)\n",
        "sns.heatmap(cm, annot = True)"
      ],
      "metadata": {
        "colab": {
          "base_uri": "https://localhost:8080/",
          "height": 464
        },
        "id": "tSziKd0VmtmK",
        "outputId": "d09b0b87-ef39-470b-bf11-3a5dbd23abfb"
      },
      "execution_count": 146,
      "outputs": [
        {
          "output_type": "stream",
          "name": "stdout",
          "text": [
            "accuracy score for the model = 0.7987012987012987\n"
          ]
        },
        {
          "output_type": "execute_result",
          "data": {
            "text/plain": [
              "<Axes: >"
            ]
          },
          "metadata": {},
          "execution_count": 146
        },
        {
          "output_type": "display_data",
          "data": {
            "text/plain": [
              "<Figure size 640x480 with 2 Axes>"
            ],
            "image/png": "[encoded data removed]"
          },
          "metadata": {}
        }
      ]
    }
  ]
}