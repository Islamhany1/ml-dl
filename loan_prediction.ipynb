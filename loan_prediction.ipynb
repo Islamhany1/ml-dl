{
  "cells": [
    {
      "cell_type": "markdown",
      "metadata": {
        "id": "MAsNNoe4IHng"
      },
      "source": [
        "import libraries"
      ]
    },
    {
      "cell_type": "code",
      "execution_count": null,
      "metadata": {
        "id": "FP4U-7I4-2zt"
      },
      "outputs": [],
      "source": [
        "import numpy as np\n",
        "import pandas as pd\n",
        "import matplotlib.pyplot as plt"
      ]
    },
    {
      "cell_type": "markdown",
      "metadata": {
        "id": "HTG0Alx8IQL4"
      },
      "source": [
        "read the data"
      ]
    },
    {
      "cell_type": "code",
      "execution_count": null,
      "metadata": {
        "colab": {
          "base_uri": "https://localhost:8080/"
        },
        "id": "bDfzejvXIQ22",
        "outputId": "4b4b66e8-7d56-4e03-a28a-f14e62d86ca4"
      },
      "outputs": [
        {
          "name": "stdout",
          "output_type": "stream",
          "text": [
            "loan_id                      0\n",
            " no_of_dependents            0\n",
            " education                   0\n",
            " self_employed               0\n",
            " income_annum                0\n",
            " loan_amount                 0\n",
            " loan_term                   0\n",
            " cibil_score                 0\n",
            " residential_assets_value    0\n",
            " commercial_assets_value     0\n",
            " luxury_assets_value         0\n",
            " bank_asset_value            0\n",
            " loan_status                 0\n",
            "dtype: int64\n"
          ]
        },
        {
          "data": {
            "text/plain": [
              "(array([[1, 2, ' Graduate', ..., 17600000, 22700000, 8000000],\n",
              "        [2, 0, ' Not Graduate', ..., 2200000, 8800000, 3300000],\n",
              "        [3, 3, ' Graduate', ..., 4500000, 33300000, 12800000],\n",
              "        ...,\n",
              "        [4267, 2, ' Not Graduate', ..., 12400000, 18100000, 7300000],\n",
              "        [4268, 1, ' Not Graduate', ..., 700000, 14100000, 5800000],\n",
              "        [4269, 1, ' Graduate', ..., 11800000, 35700000, 12000000]],\n",
              "       dtype=object),\n",
              " array([' Approved', ' Rejected', ' Rejected', ..., ' Rejected',\n",
              "        ' Approved', ' Approved'], dtype=object))"
            ]
          },
          "execution_count": 104,
          "metadata": {},
          "output_type": "execute_result"
        }
      ],
      "source": [
        "dataset = pd.read_csv('loan_approval_dataset.csv')\n",
        "x = dataset.iloc[:, :-1].values\n",
        "y = dataset.iloc[:, -1].values\n",
        "print(dataset.isna().sum())\n",
        "x, y"
      ]
    },
    {
      "cell_type": "markdown",
      "metadata": {
        "id": "PF2ylvBnQjkU"
      },
      "source": [
        "encoding independent variable"
      ]
    },
    {
      "cell_type": "code",
      "execution_count": null,
      "metadata": {
        "colab": {
          "base_uri": "https://localhost:8080/"
        },
        "id": "0jZsvqgOQlHs",
        "outputId": "c5419986-7a91-488b-e3dc-286f4001e908"
      },
      "outputs": [
        {
          "data": {
            "text/plain": [
              "array([[1.0, 0.0, 1.0, ..., 17600000, 22700000, 8000000],\n",
              "       [0.0, 1.0, 0.0, ..., 2200000, 8800000, 3300000],\n",
              "       [1.0, 0.0, 1.0, ..., 4500000, 33300000, 12800000],\n",
              "       ...,\n",
              "       [0.0, 1.0, 1.0, ..., 12400000, 18100000, 7300000],\n",
              "       [0.0, 1.0, 1.0, ..., 700000, 14100000, 5800000],\n",
              "       [1.0, 0.0, 1.0, ..., 11800000, 35700000, 12000000]], dtype=object)"
            ]
          },
          "execution_count": 105,
          "metadata": {},
          "output_type": "execute_result"
        }
      ],
      "source": [
        "from sklearn.preprocessing import OneHotEncoder\n",
        "from sklearn.compose import ColumnTransformer\n",
        "x = x[:, 1:]\n",
        "ct = ColumnTransformer(transformers = [('encoder', OneHotEncoder(), [1, 2])], remainder = 'passthrough')\n",
        "x = ct.fit_transform(x)\n",
        "x"
      ]
    },
    {
      "cell_type": "markdown",
      "metadata": {
        "id": "85wVoLfpa9i-"
      },
      "source": [
        "encode dependent variable"
      ]
    },
    {
      "cell_type": "code",
      "execution_count": null,
      "metadata": {
        "colab": {
          "base_uri": "https://localhost:8080/"
        },
        "id": "6AzCxw73a_QB",
        "outputId": "eed29b55-2197-4aae-a4fd-f31eabe3c96a"
      },
      "outputs": [
        {
          "data": {
            "text/plain": [
              "array([0, 1, 1, ..., 1, 0, 0])"
            ]
          },
          "execution_count": 106,
          "metadata": {},
          "output_type": "execute_result"
        }
      ],
      "source": [
        "from sklearn.preprocessing import LabelEncoder\n",
        "\n",
        "le = LabelEncoder()\n",
        "y = le.fit_transform(y)\n",
        "y"
      ]
    },
    {
      "cell_type": "markdown",
      "metadata": {
        "id": "ugizwIwyeDhp"
      },
      "source": [
        "split the data"
      ]
    },
    {
      "cell_type": "code",
      "execution_count": null,
      "metadata": {
        "id": "lb0UM0KVeEVt"
      },
      "outputs": [],
      "source": [
        "from sklearn.model_selection import train_test_split\n",
        "x_train, x_test, y_train, y_test = train_test_split(x, y, test_size = 0.2, random_state = 2)"
      ]
    },
    {
      "cell_type": "markdown",
      "metadata": {
        "id": "aKtDq0ykePYu"
      },
      "source": [
        "standardise the data"
      ]
    },
    {
      "cell_type": "code",
      "execution_count": null,
      "metadata": {
        "id": "hOmZDztDeQs3"
      },
      "outputs": [],
      "source": [
        "from sklearn.preprocessing import StandardScaler\n",
        "\n",
        "sc = StandardScaler()\n",
        "x_train = sc.fit_transform(x_train)\n",
        "x_test = sc.transform(x_test)"
      ]
    },
    {
      "cell_type": "markdown",
      "metadata": {
        "id": "3i6rC9exbHlX"
      },
      "source": [
        "create 3 classification models"
      ]
    },
    {
      "cell_type": "code",
      "execution_count": null,
      "metadata": {
        "id": "IJPgoTxtbP3z"
      },
      "outputs": [],
      "source": [
        "from sklearn.ensemble import RandomForestClassifier\n",
        "from xgboost import XGBClassifier\n",
        "from sklearn.svm import SVC\n",
        "\n",
        "models = [RandomForestClassifier(), XGBClassifier(), SVC(kernel='linear')]\n",
        "hyperparameters = [\n",
        "\n",
        "    {\n",
        "        'n_estimators': [50, 100, 200, 400],\n",
        "        'criterion': ['gini', 'entropy']\n",
        "    },\n",
        "    {\n",
        "        'n_estimators': [50, 100, 200, 400],\n",
        "        'max_depth': [3, 5, 7, 9]\n",
        "    },\n",
        "    {\n",
        "        'kernel': ['linear', 'poly', 'rbf'],\n",
        "        'C': [1, 5, 10, 20],\n",
        "    }\n",
        "]\n"
      ]
    },
    {
      "cell_type": "markdown",
      "metadata": {
        "id": "z62OPuvTeCes"
      },
      "source": [
        "train the models"
      ]
    },
    {
      "cell_type": "code",
      "execution_count": null,
      "metadata": {
        "colab": {
          "background_save": true
        },
        "id": "nDEQxKewfDYk",
        "outputId": "b7292ae8-87e6-4450-bb2d-f1a5bc0ad027"
      },
      "outputs": [
        {
          "name": "stdout",
          "output_type": "stream",
          "text": [
            "details for model 0 which is RandomForestClassifier()\n",
            "best params for the model are {'criterion': 'entropy', 'n_estimators': 100}\n",
            "best score for the model is 0.9792093704245974\n",
            "-------------------------------------------------------\n",
            "details for model 1 which is XGBClassifier(base_score=None, booster=None, callbacks=None,\n",
            "              colsample_bylevel=None, colsample_bynode=None,\n",
            "              colsample_bytree=None, device=None, early_stopping_rounds=None,\n",
            "              enable_categorical=False, eval_metric=None, feature_types=None,\n",
            "              gamma=None, grow_policy=None, importance_type=None,\n",
            "              interaction_constraints=None, learning_rate=None, max_bin=None,\n",
            "              max_cat_threshold=None, max_cat_to_onehot=None,\n",
            "              max_delta_step=None, max_depth=None, max_leaves=None,\n",
            "              min_child_weight=None, missing=nan, monotone_constraints=None,\n",
            "              multi_strategy=None, n_estimators=None, n_jobs=None,\n",
            "              num_parallel_tree=None, random_state=None, ...)\n",
            "best params for the model are {'max_depth': 5, 'n_estimators': 100}\n",
            "best score for the model is 0.9815519765739384\n",
            "-------------------------------------------------------\n",
            "details for model 2 which is SVC(kernel='linear')\n",
            "best params for the model are {'C': 20, 'kernel': 'rbf'}\n",
            "best score for the model is 0.9382137628111273\n",
            "-------------------------------------------------------\n"
          ]
        }
      ],
      "source": [
        "from sklearn.model_selection import GridSearchCV\n",
        "\n",
        "for i, model in enumerate(models):\n",
        "  grid_search = GridSearchCV(model, hyperparameters[i], cv = 5, scoring = 'accuracy')\n",
        "  grid_search.fit(x_train, y_train)\n",
        "\n",
        "  print('details for model', i, 'which is', model)\n",
        "  print('best params for the model are', grid_search.best_params_)\n",
        "  print('best score for the model is', grid_search.best_score_)\n",
        "  print('-------------------------------------------------------')"
      ]
    },
    {
      "cell_type": "markdown",
      "metadata": {
        "id": "Zz13-3Y1hiCb"
      },
      "source": [
        "create the models with the best parameters and train them"
      ]
    },
    {
      "cell_type": "code",
      "execution_count": null,
      "metadata": {
        "colab": {
          "background_save": true
        },
        "id": "DsDkBAEahkFZ"
      },
      "outputs": [],
      "source": [
        "models = [RandomForestClassifier(criterion = 'gini', n_estimators = 50), XGBClassifier(max_depth = 5, n_estimators = 100), SVC(kernel='rbf', C = 20)]\n",
        "for model in models:\n",
        "  model.fit(x_train, y_train)"
      ]
    },
    {
      "cell_type": "markdown",
      "metadata": {
        "id": "Oxe38mQNgs7S"
      },
      "source": [
        "evaluate the models"
      ]
    },
    {
      "cell_type": "code",
      "execution_count": null,
      "metadata": {
        "colab": {
          "background_save": true
        },
        "id": "3oN9PJ4_gqw9",
        "outputId": "3dfab32a-548e-4016-a83d-f5c3c9da9b1f"
      },
      "outputs": [
        {
          "name": "stdout",
          "output_type": "stream",
          "text": [
            "details for model 0 which is RandomForestClassifier(n_estimators=50)\n",
            "accuracy score for the model = 0.9824355971896955\n",
            "precision score for the model = 0.9843260188087775\n",
            "recall score for the model = 0.9691358024691358\n",
            "-------------------------------------------------------\n",
            "details for model 1 which is XGBClassifier(base_score=None, booster=None, callbacks=None,\n",
            "              colsample_bylevel=None, colsample_bynode=None,\n",
            "              colsample_bytree=None, device=None, early_stopping_rounds=None,\n",
            "              enable_categorical=False, eval_metric=None, feature_types=None,\n",
            "              gamma=None, grow_policy=None, importance_type=None,\n",
            "              interaction_constraints=None, learning_rate=None, max_bin=None,\n",
            "              max_cat_threshold=None, max_cat_to_onehot=None,\n",
            "              max_delta_step=None, max_depth=5, max_leaves=None,\n",
            "              min_child_weight=None, missing=nan, monotone_constraints=None,\n",
            "              multi_strategy=None, n_estimators=100, n_jobs=None,\n",
            "              num_parallel_tree=None, random_state=None, ...)\n",
            "accuracy score for the model = 0.9847775175644028\n",
            "precision score for the model = 0.9844236760124611\n",
            "recall score for the model = 0.9753086419753086\n",
            "-------------------------------------------------------\n",
            "details for model 2 which is SVC(C=20)\n",
            "accuracy score for the model = 0.9461358313817331\n",
            "precision score for the model = 0.9186746987951807\n",
            "recall score for the model = 0.941358024691358\n",
            "-------------------------------------------------------\n"
          ]
        }
      ],
      "source": [
        "from sklearn.metrics import accuracy_score, precision_score, recall_score\n",
        "\n",
        "for i, model in enumerate(models):\n",
        "  y_pred = model.predict(x_test)\n",
        "  acc = accuracy_score(y_test, y_pred)\n",
        "  precision = precision_score(y_test, y_pred)\n",
        "  recall = recall_score(y_test, y_pred)\n",
        "\n",
        "  print('details for model', i, 'which is', model)\n",
        "  print('accuracy score for the model =', acc)\n",
        "  print('precision score for the model =', precision)\n",
        "  print('recall score for the model =', recall)\n",
        "  print('-------------------------------------------------------')\n"
      ]
    }
  ],
  "metadata": {
    "colab": {
      "provenance": []
    },
    "kernelspec": {
      "display_name": "Python 3",
      "name": "python3"
    },
    "language_info": {
      "name": "python"
    }
  },
  "nbformat": 4,
  "nbformat_minor": 0
}