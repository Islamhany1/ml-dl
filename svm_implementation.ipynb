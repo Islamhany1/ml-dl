{
  "nbformat": 4,
  "nbformat_minor": 0,
  "metadata": {
    "colab": {
      "provenance": []
    },
    "kernelspec": {
      "name": "python3",
      "display_name": "Python 3"
    },
    "language_info": {
      "name": "python"
    }
  },
  "cells": [
    {
      "cell_type": "markdown",
      "source": [
        "import libraries"
      ],
      "metadata": {
        "id": "wPBqmO3fve_b"
      }
    },
    {
      "cell_type": "code",
      "execution_count": 7,
      "metadata": {
        "id": "RhRJASQJvXMX"
      },
      "outputs": [],
      "source": [
        "import pandas as pd\n",
        "import numpy as np\n",
        "from sklearn.model_selection import train_test_split\n",
        "from sklearn.preprocessing import StandardScaler\n",
        "from sklearn.metrics import accuracy_score"
      ]
    },
    {
      "cell_type": "markdown",
      "source": [
        "create svm class"
      ],
      "metadata": {
        "id": "qK5dV5nPxgDj"
      }
    },
    {
      "cell_type": "code",
      "source": [
        "class SVM_Classifier():\n",
        "\n",
        "  def __init__(self, learning_rate, no_of_iterations, lambda_parameter):\n",
        "\n",
        "    self.learning_rate = learning_rate\n",
        "    self.no_of_iterations = no_of_iterations\n",
        "    self.lambda_parameter = lambda_parameter\n",
        "\n",
        "  def fit(self, X, Y):\n",
        "\n",
        "    self.data_size = X.shape[0]\n",
        "    self.no_of_features = X.shape[1]\n",
        "\n",
        "    self.X = X\n",
        "    self.Y = Y\n",
        "\n",
        "    self.weights = np.zeros(self.no_of_features)\n",
        "    self.bias = 0\n",
        "\n",
        "    for i in range(self.no_of_iterations):\n",
        "      self.update_weights()\n",
        "\n",
        "\n",
        "  def update_weights(self):\n",
        "\n",
        "    Y_true = np.where(self.Y > 0, 1, -1)\n",
        "    for index, x_i in enumerate(self.X):\n",
        "      dw = 0\n",
        "      db = 0\n",
        "      if (Y_true[index] * (np.dot(x_i, self.weights) - self.bias) >= 1):\n",
        "        dw = 2 * self.lambda_parameter * self.weights\n",
        "        db = 0\n",
        "      else:\n",
        "        dw = 2 * self.lambda_parameter * self.weights - np.dot(x_i, Y_true[index])\n",
        "        db = Y_true[index]\n",
        "      self.weights = self.weights - self.learning_rate * dw\n",
        "      self.bias = self.bias - self.learning_rate * db\n",
        "\n",
        "  def predict(self, X):\n",
        "\n",
        "    output = np.dot(X, self.weights) - self.bias\n",
        "    return np.where(output > 0, 1, 0)\n",
        ""
      ],
      "metadata": {
        "id": "4T60WVXZxjEP"
      },
      "execution_count": 38,
      "outputs": []
    },
    {
      "cell_type": "markdown",
      "source": [
        "read the data"
      ],
      "metadata": {
        "id": "RWSNftMFcC0E"
      }
    },
    {
      "cell_type": "code",
      "source": [
        "diabetes_df = pd.read_csv('diabetes.csv')\n",
        "X = diabetes_df.drop(columns = 'Outcome', axis = 1)\n",
        "Y = diabetes_df.Outcome"
      ],
      "metadata": {
        "colab": {
          "base_uri": "https://localhost:8080/"
        },
        "id": "GlQNeXrRcCFf",
        "outputId": "82465d1a-e379-46d0-b604-6921064b0d0d"
      },
      "execution_count": 6,
      "outputs": [
        {
          "output_type": "execute_result",
          "data": {
            "text/plain": [
              "Pregnancies                 0\n",
              "Glucose                     0\n",
              "BloodPressure               0\n",
              "SkinThickness               0\n",
              "Insulin                     0\n",
              "BMI                         0\n",
              "DiabetesPedigreeFunction    0\n",
              "Age                         0\n",
              "Outcome                     0\n",
              "dtype: int64"
            ]
          },
          "metadata": {},
          "execution_count": 6
        }
      ]
    },
    {
      "cell_type": "markdown",
      "source": [
        "split the data"
      ],
      "metadata": {
        "id": "jbgd__uHdMTw"
      }
    },
    {
      "cell_type": "code",
      "source": [
        "X_train, X_test, Y_train, Y_test = train_test_split(X, Y, test_size = 0.2, random_state = 2)\n"
      ],
      "metadata": {
        "id": "eNw1wfh4dNdS"
      },
      "execution_count": 43,
      "outputs": []
    },
    {
      "cell_type": "markdown",
      "source": [
        "standardise the data"
      ],
      "metadata": {
        "id": "K8_hSz2vdcL6"
      }
    },
    {
      "cell_type": "code",
      "source": [
        "standard_scaler = StandardScaler()\n",
        "standard_scaler.fit(X_train)\n",
        "X_train_standardised = standard_scaler.transform(X_train)\n",
        "X_test_standardised = standard_scaler.transform(X_test)\n",
        "X_test_standardised.std()"
      ],
      "metadata": {
        "colab": {
          "base_uri": "https://localhost:8080/"
        },
        "id": "SqKMN9RDdeJ8",
        "outputId": "50e14543-a244-436e-e296-6236213bf6f2"
      },
      "execution_count": 44,
      "outputs": [
        {
          "output_type": "execute_result",
          "data": {
            "text/plain": [
              "0.9583971477855755"
            ]
          },
          "metadata": {},
          "execution_count": 44
        }
      ]
    },
    {
      "cell_type": "markdown",
      "source": [
        "train the model"
      ],
      "metadata": {
        "id": "EySrT33td4jy"
      }
    },
    {
      "cell_type": "code",
      "source": [
        "model = SVM_Classifier(0.001, 1000, 0.01)\n",
        "model.fit(X_train_standardised, Y_train)"
      ],
      "metadata": {
        "id": "gReHsPmTVwTd"
      },
      "execution_count": 45,
      "outputs": []
    },
    {
      "cell_type": "markdown",
      "source": [
        "evaluate the model"
      ],
      "metadata": {
        "id": "iyLMP01tmpn8"
      }
    },
    {
      "cell_type": "code",
      "source": [
        "print(accuracy_score(Y_train, model.predict(X_train_standardised)))\n",
        "Y_test_predict = model.predict(X_test_standardised)\n",
        "print(accuracy_score(Y_test_predict, Y_test))\n"
      ],
      "metadata": {
        "colab": {
          "base_uri": "https://localhost:8080/"
        },
        "id": "H3OJL0HEmr96",
        "outputId": "9a816cde-a3d8-42c7-aefc-7db445464620"
      },
      "execution_count": 47,
      "outputs": [
        {
          "output_type": "stream",
          "name": "stdout",
          "text": [
            "0.7752442996742671\n",
            "0.7467532467532467\n"
          ]
        }
      ]
    }
  ]
}