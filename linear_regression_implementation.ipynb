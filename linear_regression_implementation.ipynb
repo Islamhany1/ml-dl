{
  "nbformat": 4,
  "nbformat_minor": 0,
  "metadata": {
    "colab": {
      "provenance": []
    },
    "kernelspec": {
      "name": "python3",
      "display_name": "Python 3"
    },
    "language_info": {
      "name": "python"
    }
  },
  "cells": [
    {
      "cell_type": "markdown",
      "source": [
        "#**Building Linear Regression Model**  "
      ],
      "metadata": {
        "id": "Ut-hex_HTUnv"
      }
    },
    {
      "cell_type": "markdown",
      "source": [
        "creating linear regression as object"
      ],
      "metadata": {
        "id": "YfT_sBbCYsAR"
      }
    },
    {
      "cell_type": "code",
      "source": [
        "class Linear_Regression:\n",
        "  def __init__(self, learning_rate, no_of_iterations): # self refers to the object so when you do model = linearRegression() self is model\n",
        "\n",
        "    self.learning_rate = learning_rate\n",
        "    self.no_of_iterations = no_of_iterations\n",
        "    # no_of_iterations refers to for how long we are going to update the parameters.. in order to update the parameter one time we need to go through the whole data.\n",
        "    # learning rate and no_of_iterations are called hyper parameters because we set them by themselves\n",
        "    # m and c are called model parameters because the model is setting them.\n",
        "\n",
        "  def fit(self, X, Y):\n",
        "    self.data_size = X.shape[0]\n",
        "    self.no_of_features = X.shape[1]\n",
        "    # these two attributes will be added to the self object after calling fit.\n",
        "    self.X = X\n",
        "    self.Y = Y\n",
        "    # first we initiate the slope or weights and bias or intercept.\n",
        "    self.weights = np.zeros(self.no_of_features)\n",
        "    self.bias = 0\n",
        "\n",
        "    # then we update the weights and the bias .\n",
        "    for i in range(self.no_of_iterations):\n",
        "      self.update_weights()\n",
        "\n",
        "  def update_weights(self):\n",
        "    Y_prediction = self.predict(self.X)\n",
        "    partial_derivate_to_weights = (-2 / self.data_size) * self.X.T.dot( self.Y - Y_prediction )\n",
        "    partial_derivate_to_bias = (-2 / self.data_size) * np.sum( self.Y - Y_prediction )\n",
        "    self.weights = self.weights - self.learning_rate * partial_derivate_to_weights\n",
        "    self.bias = self.bias - self.learning_rate * partial_derivate_to_bias\n",
        "  def predict(self, X):\n",
        "    return X.dot(self.weights) + self.bias # the dot will be between each array in X and the weights and the bias will be added to each element in the resulting array.\n",
        "\n"
      ],
      "metadata": {
        "id": "Ukd5_r1JYuwC"
      },
      "execution_count": 17,
      "outputs": []
    },
    {
      "cell_type": "markdown",
      "source": [
        "import libraries"
      ],
      "metadata": {
        "id": "zbASWDki_Cx-"
      }
    },
    {
      "cell_type": "code",
      "source": [
        "import numpy as np\n",
        "import pandas as pd\n",
        "from sklearn.model_selection import train_test_split\n",
        "import matplotlib.pyplot as plt"
      ],
      "metadata": {
        "id": "6iacJPvz_E4V"
      },
      "execution_count": 6,
      "outputs": []
    },
    {
      "cell_type": "markdown",
      "source": [
        "loading data"
      ],
      "metadata": {
        "id": "0CtKr_-nTqXn"
      }
    },
    {
      "cell_type": "code",
      "source": [
        "salary_df = pd.read_csv('salary_data.csv')\n",
        "X = salary_df.drop(columns = 'Salary')\n",
        "Y = salary_df.Salary\n",
        "\n",
        "salary_df.isnull().sum()"
      ],
      "metadata": {
        "colab": {
          "base_uri": "https://localhost:8080/"
        },
        "id": "EPFLPj9wTuTe",
        "outputId": "c3934523-fa68-4fcd-8a51-f0489ccae537"
      },
      "execution_count": 7,
      "outputs": [
        {
          "output_type": "execute_result",
          "data": {
            "text/plain": [
              "YearsExperience    0\n",
              "Salary             0\n",
              "dtype: int64"
            ]
          },
          "metadata": {},
          "execution_count": 7
        }
      ]
    },
    {
      "cell_type": "markdown",
      "source": [
        "split the data"
      ],
      "metadata": {
        "id": "_llFATBGfE4u"
      }
    },
    {
      "cell_type": "code",
      "source": [
        "X_train, X_test, Y_train, Y_test = train_test_split(X, Y, test_size = 0.33, random_state = 2)\n"
      ],
      "metadata": {
        "id": "3VSi-KvrfGdg"
      },
      "execution_count": 10,
      "outputs": []
    },
    {
      "cell_type": "markdown",
      "source": [
        "training the Linear Regression model"
      ],
      "metadata": {
        "id": "DhlpV4ba5Bm0"
      }
    },
    {
      "cell_type": "code",
      "source": [
        "linear_regression = Linear_Regression(0.02, 1000)\n",
        "linear_regression.fit(X_train, Y_train) # this is used to the model\n",
        "\n",
        "\n"
      ],
      "metadata": {
        "id": "T6Ijt24r5BID",
        "colab": {
          "base_uri": "https://localhost:8080/"
        },
        "outputId": "4d1ed662-67c0-4eef-d1a3-61c81d28a9e5"
      },
      "execution_count": 25,
      "outputs": [
        {
          "output_type": "stream",
          "name": "stdout",
          "text": [
            "<class 'pandas.core.frame.DataFrame'>\n",
            "<class 'pandas.core.series.Series'>\n",
            "<class 'pandas.core.series.Series'>\n"
          ]
        }
      ]
    },
    {
      "cell_type": "markdown",
      "source": [
        "testing the model"
      ],
      "metadata": {
        "id": "5V_zy_inhiVS"
      }
    },
    {
      "cell_type": "code",
      "source": [
        "Y_predict = linear_regression.predict(X_test)"
      ],
      "metadata": {
        "id": "MLyXtDHRhiAw"
      },
      "execution_count": 26,
      "outputs": []
    },
    {
      "cell_type": "markdown",
      "source": [
        "visualise actual values and predicted values"
      ],
      "metadata": {
        "id": "Ho7Y7pzZsFDY"
      }
    },
    {
      "cell_type": "code",
      "source": [
        "plt.scatter(X_test, Y_test, color = 'g')\n",
        "plt.plot(X_test, Y_predict, color = 'r') # we should plot x-test and y-predict be because it is always a line\n",
        "plt.xlabel('number of years experience')\n",
        "plt.ylabel('salary')\n",
        "plt.title('salary vs experience')\n",
        "plt.show()"
      ],
      "metadata": {
        "colab": {
          "base_uri": "https://localhost:8080/",
          "height": 472
        },
        "id": "HVV230KvsJmA",
        "outputId": "c9367026-6424-4e70-db0a-76dac6adb09d"
      },
      "execution_count": 35,
      "outputs": [
        {
          "output_type": "display_data",
          "data": {
            "text/plain": [
              "<Figure size 640x480 with 1 Axes>"
            ],
            "image/png": "[encoded data removed]"
          },
          "metadata": {}
        }
      ]
    }
  ]
}