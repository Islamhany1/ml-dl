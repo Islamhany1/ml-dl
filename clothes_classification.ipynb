{
  "nbformat": 4,
  "nbformat_minor": 0,
  "metadata": {
    "colab": {
      "provenance": []
    },
    "kernelspec": {
      "name": "python3",
      "display_name": "Python 3"
    },
    "language_info": {
      "name": "python"
    },
    "widgets": {
      "application/vnd.jupyter.widget-state+json": {
        "19fcf00941114159b8d93f745bb4450e": {
          "model_module": "@jupyter-widgets/controls",
          "model_name": "HBoxModel",
          "model_module_version": "1.5.0",
          "state": {
            "_dom_classes": [],
            "_model_module": "@jupyter-widgets/controls",
            "_model_module_version": "1.5.0",
            "_model_name": "HBoxModel",
            "_view_count": null,
            "_view_module": "@jupyter-widgets/controls",
            "_view_module_version": "1.5.0",
            "_view_name": "HBoxView",
            "box_style": "",
            "children": [
              "IPY_MODEL_1d166080e4f44e3089125872eb2c2b5a",
              "IPY_MODEL_981fc2755c4e48d0a30d46de8641668c",
              "IPY_MODEL_5a2e813893e04288b2ee01409e54d1dc"
            ],
            "layout": "IPY_MODEL_4accf677a7cb4bdd8f5aec80b33dbcd5"
          }
        },
        "1d166080e4f44e3089125872eb2c2b5a": {
          "model_module": "@jupyter-widgets/controls",
          "model_name": "HTMLModel",
          "model_module_version": "1.5.0",
          "state": {
            "_dom_classes": [],
            "_model_module": "@jupyter-widgets/controls",
            "_model_module_version": "1.5.0",
            "_model_name": "HTMLModel",
            "_view_count": null,
            "_view_module": "@jupyter-widgets/controls",
            "_view_module_version": "1.5.0",
            "_view_name": "HTMLView",
            "description": "",
            "description_tooltip": null,
            "layout": "IPY_MODEL_e7a2012814c64c52aa449ecc0d62c695",
            "placeholder": "​",
            "style": "IPY_MODEL_ac7c772f08d243b8ba2a10e380c21146",
            "value": "100%"
          }
        },
        "981fc2755c4e48d0a30d46de8641668c": {
          "model_module": "@jupyter-widgets/controls",
          "model_name": "FloatProgressModel",
          "model_module_version": "1.5.0",
          "state": {
            "_dom_classes": [],
            "_model_module": "@jupyter-widgets/controls",
            "_model_module_version": "1.5.0",
            "_model_name": "FloatProgressModel",
            "_view_count": null,
            "_view_module": "@jupyter-widgets/controls",
            "_view_module_version": "1.5.0",
            "_view_name": "ProgressView",
            "bar_style": "success",
            "description": "",
            "description_tooltip": null,
            "layout": "IPY_MODEL_0a2b8bc56b0a4168a7914678ce81ae8a",
            "max": 10,
            "min": 0,
            "orientation": "horizontal",
            "style": "IPY_MODEL_ec5b8374556e43099cd7b6130536b664",
            "value": 10
          }
        },
        "5a2e813893e04288b2ee01409e54d1dc": {
          "model_module": "@jupyter-widgets/controls",
          "model_name": "HTMLModel",
          "model_module_version": "1.5.0",
          "state": {
            "_dom_classes": [],
            "_model_module": "@jupyter-widgets/controls",
            "_model_module_version": "1.5.0",
            "_model_name": "HTMLModel",
            "_view_count": null,
            "_view_module": "@jupyter-widgets/controls",
            "_view_module_version": "1.5.0",
            "_view_name": "HTMLView",
            "description": "",
            "description_tooltip": null,
            "layout": "IPY_MODEL_d6f8d501fcfa4ac8aa5630aa8cc4118b",
            "placeholder": "​",
            "style": "IPY_MODEL_0772904501974a628ab0677e4dd217b5",
            "value": " 10/10 [08:14&lt;00:00, 47.59s/it]"
          }
        },
        "4accf677a7cb4bdd8f5aec80b33dbcd5": {
          "model_module": "@jupyter-widgets/base",
          "model_name": "LayoutModel",
          "model_module_version": "1.2.0",
          "state": {
            "_model_module": "@jupyter-widgets/base",
            "_model_module_version": "1.2.0",
            "_model_name": "LayoutModel",
            "_view_count": null,
            "_view_module": "@jupyter-widgets/base",
            "_view_module_version": "1.2.0",
            "_view_name": "LayoutView",
            "align_content": null,
            "align_items": null,
            "align_self": null,
            "border": null,
            "bottom": null,
            "display": null,
            "flex": null,
            "flex_flow": null,
            "grid_area": null,
            "grid_auto_columns": null,
            "grid_auto_flow": null,
            "grid_auto_rows": null,
            "grid_column": null,
            "grid_gap": null,
            "grid_row": null,
            "grid_template_areas": null,
            "grid_template_columns": null,
            "grid_template_rows": null,
            "height": null,
            "justify_content": null,
            "justify_items": null,
            "left": null,
            "margin": null,
            "max_height": null,
            "max_width": null,
            "min_height": null,
            "min_width": null,
            "object_fit": null,
            "object_position": null,
            "order": null,
            "overflow": null,
            "overflow_x": null,
            "overflow_y": null,
            "padding": null,
            "right": null,
            "top": null,
            "visibility": null,
            "width": null
          }
        },
        "e7a2012814c64c52aa449ecc0d62c695": {
          "model_module": "@jupyter-widgets/base",
          "model_name": "LayoutModel",
          "model_module_version": "1.2.0",
          "state": {
            "_model_module": "@jupyter-widgets/base",
            "_model_module_version": "1.2.0",
            "_model_name": "LayoutModel",
            "_view_count": null,
            "_view_module": "@jupyter-widgets/base",
            "_view_module_version": "1.2.0",
            "_view_name": "LayoutView",
            "align_content": null,
            "align_items": null,
            "align_self": null,
            "border": null,
            "bottom": null,
            "display": null,
            "flex": null,
            "flex_flow": null,
            "grid_area": null,
            "grid_auto_columns": null,
            "grid_auto_flow": null,
            "grid_auto_rows": null,
            "grid_column": null,
            "grid_gap": null,
            "grid_row": null,
            "grid_template_areas": null,
            "grid_template_columns": null,
            "grid_template_rows": null,
            "height": null,
            "justify_content": null,
            "justify_items": null,
            "left": null,
            "margin": null,
            "max_height": null,
            "max_width": null,
            "min_height": null,
            "min_width": null,
            "object_fit": null,
            "object_position": null,
            "order": null,
            "overflow": null,
            "overflow_x": null,
            "overflow_y": null,
            "padding": null,
            "right": null,
            "top": null,
            "visibility": null,
            "width": null
          }
        },
        "ac7c772f08d243b8ba2a10e380c21146": {
          "model_module": "@jupyter-widgets/controls",
          "model_name": "DescriptionStyleModel",
          "model_module_version": "1.5.0",
          "state": {
            "_model_module": "@jupyter-widgets/controls",
            "_model_module_version": "1.5.0",
            "_model_name": "DescriptionStyleModel",
            "_view_count": null,
            "_view_module": "@jupyter-widgets/base",
            "_view_module_version": "1.2.0",
            "_view_name": "StyleView",
            "description_width": ""
          }
        },
        "0a2b8bc56b0a4168a7914678ce81ae8a": {
          "model_module": "@jupyter-widgets/base",
          "model_name": "LayoutModel",
          "model_module_version": "1.2.0",
          "state": {
            "_model_module": "@jupyter-widgets/base",
            "_model_module_version": "1.2.0",
            "_model_name": "LayoutModel",
            "_view_count": null,
            "_view_module": "@jupyter-widgets/base",
            "_view_module_version": "1.2.0",
            "_view_name": "LayoutView",
            "align_content": null,
            "align_items": null,
            "align_self": null,
            "border": null,
            "bottom": null,
            "display": null,
            "flex": null,
            "flex_flow": null,
            "grid_area": null,
            "grid_auto_columns": null,
            "grid_auto_flow": null,
            "grid_auto_rows": null,
            "grid_column": null,
            "grid_gap": null,
            "grid_row": null,
            "grid_template_areas": null,
            "grid_template_columns": null,
            "grid_template_rows": null,
            "height": null,
            "justify_content": null,
            "justify_items": null,
            "left": null,
            "margin": null,
            "max_height": null,
            "max_width": null,
            "min_height": null,
            "min_width": null,
            "object_fit": null,
            "object_position": null,
            "order": null,
            "overflow": null,
            "overflow_x": null,
            "overflow_y": null,
            "padding": null,
            "right": null,
            "top": null,
            "visibility": null,
            "width": null
          }
        },
        "ec5b8374556e43099cd7b6130536b664": {
          "model_module": "@jupyter-widgets/controls",
          "model_name": "ProgressStyleModel",
          "model_module_version": "1.5.0",
          "state": {
            "_model_module": "@jupyter-widgets/controls",
            "_model_module_version": "1.5.0",
            "_model_name": "ProgressStyleModel",
            "_view_count": null,
            "_view_module": "@jupyter-widgets/base",
            "_view_module_version": "1.2.0",
            "_view_name": "StyleView",
            "bar_color": null,
            "description_width": ""
          }
        },
        "d6f8d501fcfa4ac8aa5630aa8cc4118b": {
          "model_module": "@jupyter-widgets/base",
          "model_name": "LayoutModel",
          "model_module_version": "1.2.0",
          "state": {
            "_model_module": "@jupyter-widgets/base",
            "_model_module_version": "1.2.0",
            "_model_name": "LayoutModel",
            "_view_count": null,
            "_view_module": "@jupyter-widgets/base",
            "_view_module_version": "1.2.0",
            "_view_name": "LayoutView",
            "align_content": null,
            "align_items": null,
            "align_self": null,
            "border": null,
            "bottom": null,
            "display": null,
            "flex": null,
            "flex_flow": null,
            "grid_area": null,
            "grid_auto_columns": null,
            "grid_auto_flow": null,
            "grid_auto_rows": null,
            "grid_column": null,
            "grid_gap": null,
            "grid_row": null,
            "grid_template_areas": null,
            "grid_template_columns": null,
            "grid_template_rows": null,
            "height": null,
            "justify_content": null,
            "justify_items": null,
            "left": null,
            "margin": null,
            "max_height": null,
            "max_width": null,
            "min_height": null,
            "min_width": null,
            "object_fit": null,
            "object_position": null,
            "order": null,
            "overflow": null,
            "overflow_x": null,
            "overflow_y": null,
            "padding": null,
            "right": null,
            "top": null,
            "visibility": null,
            "width": null
          }
        },
        "0772904501974a628ab0677e4dd217b5": {
          "model_module": "@jupyter-widgets/controls",
          "model_name": "DescriptionStyleModel",
          "model_module_version": "1.5.0",
          "state": {
            "_model_module": "@jupyter-widgets/controls",
            "_model_module_version": "1.5.0",
            "_model_name": "DescriptionStyleModel",
            "_view_count": null,
            "_view_module": "@jupyter-widgets/base",
            "_view_module_version": "1.2.0",
            "_view_name": "StyleView",
            "description_width": ""
          }
        }
      }
    }
  },
  "cells": [
    {
      "cell_type": "markdown",
      "source": [
        "import libraries"
      ],
      "metadata": {
        "id": "yEhgKNMh2n9o"
      }
    },
    {
      "cell_type": "code",
      "source": [
        "import torch\n",
        "from torch import nn\n",
        "import matplotlib.pyplot as plt"
      ],
      "metadata": {
        "id": "m9qOUdnm2qSG"
      },
      "execution_count": 1,
      "outputs": []
    },
    {
      "cell_type": "markdown",
      "source": [
        "get a dataset"
      ],
      "metadata": {
        "id": "ah-mCHEl2miT"
      }
    },
    {
      "cell_type": "code",
      "execution_count": 2,
      "metadata": {
        "id": "DIWu1ZDs2iuf",
        "colab": {
          "base_uri": "https://localhost:8080/"
        },
        "outputId": "3fb4b82c-a8e9-4ca2-c995-5c4c1ee36f39"
      },
      "outputs": [
        {
          "output_type": "stream",
          "name": "stdout",
          "text": [
            "Downloading http://fashion-mnist.s3-website.eu-central-1.amazonaws.com/train-images-idx3-ubyte.gz\n",
            "Downloading http://fashion-mnist.s3-website.eu-central-1.amazonaws.com/train-images-idx3-ubyte.gz to data/FashionMNIST/raw/train-images-idx3-ubyte.gz\n"
          ]
        },
        {
          "output_type": "stream",
          "name": "stderr",
          "text": [
            "100%|██████████| 26421880/26421880 [00:00<00:00, 120303476.37it/s]\n"
          ]
        },
        {
          "output_type": "stream",
          "name": "stdout",
          "text": [
            "Extracting data/FashionMNIST/raw/train-images-idx3-ubyte.gz to data/FashionMNIST/raw\n",
            "\n",
            "Downloading http://fashion-mnist.s3-website.eu-central-1.amazonaws.com/train-labels-idx1-ubyte.gz\n",
            "Downloading http://fashion-mnist.s3-website.eu-central-1.amazonaws.com/train-labels-idx1-ubyte.gz to data/FashionMNIST/raw/train-labels-idx1-ubyte.gz\n"
          ]
        },
        {
          "output_type": "stream",
          "name": "stderr",
          "text": [
            "100%|██████████| 29515/29515 [00:00<00:00, 67573625.85it/s]"
          ]
        },
        {
          "output_type": "stream",
          "name": "stdout",
          "text": [
            "Extracting data/FashionMNIST/raw/train-labels-idx1-ubyte.gz to data/FashionMNIST/raw\n",
            "\n",
            "Downloading http://fashion-mnist.s3-website.eu-central-1.amazonaws.com/t10k-images-idx3-ubyte.gz\n",
            "Downloading http://fashion-mnist.s3-website.eu-central-1.amazonaws.com/t10k-images-idx3-ubyte.gz to data/FashionMNIST/raw/t10k-images-idx3-ubyte.gz\n"
          ]
        },
        {
          "output_type": "stream",
          "name": "stderr",
          "text": [
            "\n",
            "100%|██████████| 4422102/4422102 [00:00<00:00, 54682638.51it/s]\n"
          ]
        },
        {
          "output_type": "stream",
          "name": "stdout",
          "text": [
            "Extracting data/FashionMNIST/raw/t10k-images-idx3-ubyte.gz to data/FashionMNIST/raw\n",
            "\n",
            "Downloading http://fashion-mnist.s3-website.eu-central-1.amazonaws.com/t10k-labels-idx1-ubyte.gz\n",
            "Downloading http://fashion-mnist.s3-website.eu-central-1.amazonaws.com/t10k-labels-idx1-ubyte.gz to data/FashionMNIST/raw/t10k-labels-idx1-ubyte.gz\n"
          ]
        },
        {
          "output_type": "stream",
          "name": "stderr",
          "text": [
            "100%|██████████| 5148/5148 [00:00<00:00, 14779108.14it/s]\n"
          ]
        },
        {
          "output_type": "stream",
          "name": "stdout",
          "text": [
            "Extracting data/FashionMNIST/raw/t10k-labels-idx1-ubyte.gz to data/FashionMNIST/raw\n",
            "\n"
          ]
        }
      ],
      "source": [
        "import torchvision\n",
        "from torchvision import datasets\n",
        "from torchvision import transforms\n",
        "from torchvision.transforms import ToTensor\n",
        "\n",
        "train_data = datasets.FashionMNIST(\n",
        "    root = 'data',\n",
        "    train = True,\n",
        "    download = True,\n",
        "    target_transform = None,\n",
        "    transform = ToTensor()\n",
        ")\n",
        "\n",
        "test_data = datasets.FashionMNIST(\n",
        "    root = 'data',\n",
        "    train = False,\n",
        "    download = True,\n",
        "    target_transform = None,\n",
        "    transform = ToTensor()\n",
        ")"
      ]
    },
    {
      "cell_type": "markdown",
      "source": [
        "view a data sample"
      ],
      "metadata": {
        "id": "V1oJw9VG2sG_"
      }
    },
    {
      "cell_type": "code",
      "source": [
        "image, label = train_data[0]\n",
        "print(image.shape, label)\n",
        "\n",
        "fig = plt.figure(figsize = (9, 9))\n",
        "for i in range(16):\n",
        "  fig.add_subplot(4, 4, i + 1)\n",
        "  image, label = train_data[i]\n",
        "  plt.imshow(image.squeeze(), cmap = 'gray')\n",
        "  plt.axis(False)\n",
        "  plt.title(train_data.classes[label])"
      ],
      "metadata": {
        "colab": {
          "base_uri": "https://localhost:8080/",
          "height": 769
        },
        "id": "AdrRtiCc29Bj",
        "outputId": "3ff6e371-6679-47ae-8760-256bcd5d28b8"
      },
      "execution_count": 3,
      "outputs": [
        {
          "output_type": "stream",
          "name": "stdout",
          "text": [
            "torch.Size([1, 28, 28]) 9\n"
          ]
        },
        {
          "output_type": "display_data",
          "data": {
            "text/plain": [
              "<Figure size 900x900 with 16 Axes>"
            ],
            "image/png": "[encoded data removed]"
          },
          "metadata": {}
        }
      ]
    },
    {
      "cell_type": "markdown",
      "source": [
        "create batches"
      ],
      "metadata": {
        "id": "p2HqzhICKW0z"
      }
    },
    {
      "cell_type": "code",
      "source": [
        "from torch.utils.data import DataLoader\n",
        "\n",
        "train_dataloader = DataLoader(dataset = train_data, shuffle = True, batch_size = 32)\n",
        "\n",
        "test_dataloader = DataLoader(dataset = test_data, shuffle = False, batch_size = 32)\n",
        "\n",
        "len(test_dataloader), len(train_dataloader)"
      ],
      "metadata": {
        "colab": {
          "base_uri": "https://localhost:8080/"
        },
        "id": "sZ0E6vCWKYZz",
        "outputId": "cdb30084-6923-4789-d9dd-5e57cb1e1f85"
      },
      "execution_count": 4,
      "outputs": [
        {
          "output_type": "execute_result",
          "data": {
            "text/plain": [
              "(313, 1875)"
            ]
          },
          "metadata": {},
          "execution_count": 4
        }
      ]
    },
    {
      "cell_type": "markdown",
      "source": [
        "view a sample of new format"
      ],
      "metadata": {
        "id": "hHIEsONpkeOY"
      }
    },
    {
      "cell_type": "code",
      "source": [
        "# get the first batch\n",
        "\n",
        "images_batch, labels_batch = next(iter(train_dataloader))\n",
        "\n",
        "image, label = images_batch[0], labels_batch[0]\n",
        "\n",
        "plt.imshow(image.squeeze(), cmap = 'gray')\n",
        "plt.axis(False)\n",
        "plt.title(train_data.classes[label])"
      ],
      "metadata": {
        "colab": {
          "base_uri": "https://localhost:8080/",
          "height": 445
        },
        "id": "aBINVgTJkf6o",
        "outputId": "49ac497f-dab8-4357-c79a-b8fbc484f0a5"
      },
      "execution_count": 5,
      "outputs": [
        {
          "output_type": "execute_result",
          "data": {
            "text/plain": [
              "Text(0.5, 1.0, 'Bag')"
            ]
          },
          "metadata": {},
          "execution_count": 5
        },
        {
          "output_type": "display_data",
          "data": {
            "text/plain": [
              "<Figure size 640x480 with 1 Axes>"
            ],
            "image/png": "[encoded data removed]"
          },
          "metadata": {}
        }
      ]
    },
    {
      "cell_type": "markdown",
      "source": [
        "create the model"
      ],
      "metadata": {
        "id": "7_ob2gY2HqLf"
      }
    },
    {
      "cell_type": "code",
      "source": [
        "model_0 = nn.Sequential(\n",
        "    # first conv layer\n",
        "    nn.Conv2d(in_channels = 1, out_channels = 10, kernel_size = 3, stride = 1),\n",
        "    nn.ReLU(),\n",
        "    nn.Conv2d(in_channels = 10, out_channels = 10, kernel_size = 3, stride = 1),\n",
        "    nn.ReLU(),\n",
        "    nn.MaxPool2d(kernel_size = 2),\n",
        "\n",
        "    #second conv layer\n",
        "    nn.Conv2d(in_channels = 10, out_channels = 10, kernel_size = 3, stride = 1),\n",
        "    nn.ReLU(),\n",
        "    nn.Conv2d(in_channels = 10, out_channels = 10, kernel_size = 3, stride = 1),\n",
        "    nn.ReLU(),\n",
        "    nn.MaxPool2d(kernel_size = 2),\n",
        "\n",
        "    nn.Flatten(),\n",
        "    nn.Linear(in_features = 10 * 4 * 4, out_features = 10),\n",
        ")"
      ],
      "metadata": {
        "id": "mwZs9vG0DIYa"
      },
      "execution_count": 6,
      "outputs": []
    },
    {
      "cell_type": "markdown",
      "source": [
        "train the model"
      ],
      "metadata": {
        "id": "1ZpjPg-JH_a0"
      }
    },
    {
      "cell_type": "code",
      "source": [
        "from tqdm.auto import tqdm\n",
        "from sklearn.metrics import accuracy_score\n",
        "\n",
        "loss_fn = nn.CrossEntropyLoss()\n",
        "optimizer = torch.optim.Adam(model_0.parameters(), lr = 0.01)\n",
        "epcohs = 10\n",
        "train_accuracy_per_epoch = []\n",
        "train_losses_per_epoch = []\n",
        "epochs_array = []\n",
        "\n",
        "model_0.train()\n",
        "\n",
        "for epoch in tqdm(range(epcohs)):\n",
        "\n",
        "  train_loss_epoch = 0\n",
        "  train_accuracy_epoch = 0\n",
        "  for batch_images, batch_labels in train_dataloader:\n",
        "\n",
        "    y_train_preds = model_0(batch_images)\n",
        "\n",
        "    loss_batch = loss_fn(y_train_preds, batch_labels)\n",
        "    train_loss_epoch += loss_batch\n",
        "    accuracy_batch = accuracy_score(batch_labels, torch.argmax(torch.softmax(y_train_preds, axis = 1), axis = 1)) * 100\n",
        "    train_accuracy_epoch += accuracy_batch\n",
        "\n",
        "    optimizer.zero_grad()\n",
        "\n",
        "    loss_batch.backward()\n",
        "\n",
        "    optimizer.step()\n",
        "\n",
        "  train_accuracy_per_epoch.append(train_accuracy_epoch / len(train_dataloader))\n",
        "  train_losses_per_epoch.append(train_loss_epoch / len(train_dataloader))\n",
        "  epochs_array.append(epoch)\n",
        "\n"
      ],
      "metadata": {
        "colab": {
          "base_uri": "https://localhost:8080/",
          "height": 49,
          "referenced_widgets": [
            "19fcf00941114159b8d93f745bb4450e",
            "1d166080e4f44e3089125872eb2c2b5a",
            "981fc2755c4e48d0a30d46de8641668c",
            "5a2e813893e04288b2ee01409e54d1dc",
            "4accf677a7cb4bdd8f5aec80b33dbcd5",
            "e7a2012814c64c52aa449ecc0d62c695",
            "ac7c772f08d243b8ba2a10e380c21146",
            "0a2b8bc56b0a4168a7914678ce81ae8a",
            "ec5b8374556e43099cd7b6130536b664",
            "d6f8d501fcfa4ac8aa5630aa8cc4118b",
            "0772904501974a628ab0677e4dd217b5"
          ]
        },
        "id": "_-X2If58IAQE",
        "outputId": "7485d2dc-a4b7-40fa-95fd-bc650cd8903f"
      },
      "execution_count": 7,
      "outputs": [
        {
          "output_type": "display_data",
          "data": {
            "text/plain": [
              "  0%|          | 0/10 [00:00<?, ?it/s]"
            ],
            "application/vnd.jupyter.widget-view+json": {
              "version_major": 2,
              "version_minor": 0,
              "model_id": "19fcf00941114159b8d93f745bb4450e"
            }
          },
          "metadata": {}
        }
      ]
    },
    {
      "cell_type": "markdown",
      "source": [
        "visualise loss and accuracy in train data"
      ],
      "metadata": {
        "id": "lmFf1ghdc4q4"
      }
    },
    {
      "cell_type": "code",
      "source": [
        "train_losses_per_epoch = [i.detach().numpy() for i in train_losses_per_epoch]\n",
        "plt.plot(epochs_array, train_accuracy_per_epoch, color = 'g')\n",
        "plt.xlabel('epochs')\n",
        "plt.ylabel('train accuracy')\n",
        "plt.title('accuracy while training')\n",
        "plt.show()\n",
        "\n",
        "plt.plot(epochs_array, train_losses_per_epoch, color = 'r')\n",
        "plt.xlabel('epochs')\n",
        "plt.ylabel('loss')\n",
        "plt.title('loss while training')\n",
        "plt.show()"
      ],
      "metadata": {
        "id": "etXYlsVPc7q6",
        "colab": {
          "base_uri": "https://localhost:8080/",
          "height": 927
        },
        "outputId": "6a7257ef-8bb1-4d8e-ab4f-51b79758af11"
      },
      "execution_count": 14,
      "outputs": [
        {
          "output_type": "display_data",
          "data": {
            "text/plain": [
              "<Figure size 640x480 with 1 Axes>"
            ],
            "image/png": "[encoded data removed]"
          },
          "metadata": {}
        },
        {
          "output_type": "display_data",
          "data": {
            "text/plain": [
              "<Figure size 640x480 with 1 Axes>"
            ],
            "image/png": "[encoded data removed]"
          },
          "metadata": {}
        }
      ]
    },
    {
      "cell_type": "markdown",
      "source": [
        "make predictions"
      ],
      "metadata": {
        "id": "xIHMxYSBYtdd"
      }
    },
    {
      "cell_type": "code",
      "source": [
        "test_accuracy = 0\n",
        "test_loss = 0\n",
        "\n",
        "model_0.eval()\n",
        "with torch.inference_mode():\n",
        "\n",
        "  for images_batch, labels_batch in test_dataloader:\n",
        "\n",
        "    y_test_preds = model_0(images_batch)\n",
        "    test_loss += loss_fn(y_test_preds, labels_batch)\n",
        "    test_accuracy += accuracy_score(labels_batch, torch.argmax(torch.softmax(y_test_preds, axis = 1), axis = 1)) * 100\n",
        "\n",
        "test_accuracy = test_accuracy / len(test_dataloader)\n",
        "test_loss = test_loss / len(test_dataloader)\n",
        "test_accuracy, test_loss"
      ],
      "metadata": {
        "id": "xql9J55gYxZj",
        "colab": {
          "base_uri": "https://localhost:8080/"
        },
        "outputId": "d7c0e13b-62c8-433b-b0f9-91dc85057d16"
      },
      "execution_count": 15,
      "outputs": [
        {
          "output_type": "execute_result",
          "data": {
            "text/plain": [
              "(85.6729233226837, tensor(0.3957))"
            ]
          },
          "metadata": {},
          "execution_count": 15
        }
      ]
    }
  ]
}